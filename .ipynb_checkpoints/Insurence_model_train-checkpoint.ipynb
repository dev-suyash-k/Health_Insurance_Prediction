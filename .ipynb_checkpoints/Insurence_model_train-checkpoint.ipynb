{
 "cells": [
  {
   "cell_type": "markdown",
   "id": "bbd03136",
   "metadata": {},
   "source": [
    "### Importing libraries :-"
   ]
  },
  {
   "cell_type": "code",
   "execution_count": 72,
   "id": "530ec33b",
   "metadata": {},
   "outputs": [],
   "source": [
    "import pickle\n",
    "import pandas as pd\n",
    "import numpy as np\n",
    "from sklearn.linear_model import LinearRegression\n",
    "from sklearn.tree import DecisionTreeRegressor\n",
    "from sklearn.neighbors import KNeighborsRegressor\n",
    "from sklearn.model_selection import train_test_split,GridSearchCV,RandomizedSearchCV\n",
    "import matplotlib.pyplot as plt\n",
    "import seaborn as sns\n",
    "from sklearn.preprocessing import StandardScaler,MinMaxScaler\n",
    "import warnings\n",
    "warnings.filterwarnings(\"ignore\")\n",
    "from sklearn.metrics import r2_score,mean_squared_error,mean_absolute_error\n",
    "from sklearn.ensemble import RandomForestRegressor"
   ]
  },
  {
   "cell_type": "markdown",
   "id": "1a09ebb7",
   "metadata": {},
   "source": [
    "### Collection of data :- "
   ]
  },
  {
   "cell_type": "code",
   "execution_count": 2,
   "id": "db109fae",
   "metadata": {},
   "outputs": [
    {
     "data": {
      "text/html": [
       "<div>\n",
       "<style scoped>\n",
       "    .dataframe tbody tr th:only-of-type {\n",
       "        vertical-align: middle;\n",
       "    }\n",
       "\n",
       "    .dataframe tbody tr th {\n",
       "        vertical-align: top;\n",
       "    }\n",
       "\n",
       "    .dataframe thead th {\n",
       "        text-align: right;\n",
       "    }\n",
       "</style>\n",
       "<table border=\"1\" class=\"dataframe\">\n",
       "  <thead>\n",
       "    <tr style=\"text-align: right;\">\n",
       "      <th></th>\n",
       "      <th>age</th>\n",
       "      <th>sex</th>\n",
       "      <th>bmi</th>\n",
       "      <th>children</th>\n",
       "      <th>smoker</th>\n",
       "      <th>region</th>\n",
       "      <th>charges</th>\n",
       "    </tr>\n",
       "  </thead>\n",
       "  <tbody>\n",
       "    <tr>\n",
       "      <th>0</th>\n",
       "      <td>19</td>\n",
       "      <td>female</td>\n",
       "      <td>27.900</td>\n",
       "      <td>0</td>\n",
       "      <td>yes</td>\n",
       "      <td>southwest</td>\n",
       "      <td>16884.92400</td>\n",
       "    </tr>\n",
       "    <tr>\n",
       "      <th>1</th>\n",
       "      <td>18</td>\n",
       "      <td>male</td>\n",
       "      <td>33.770</td>\n",
       "      <td>1</td>\n",
       "      <td>no</td>\n",
       "      <td>southeast</td>\n",
       "      <td>1725.55230</td>\n",
       "    </tr>\n",
       "    <tr>\n",
       "      <th>2</th>\n",
       "      <td>28</td>\n",
       "      <td>male</td>\n",
       "      <td>33.000</td>\n",
       "      <td>3</td>\n",
       "      <td>no</td>\n",
       "      <td>southeast</td>\n",
       "      <td>4449.46200</td>\n",
       "    </tr>\n",
       "    <tr>\n",
       "      <th>3</th>\n",
       "      <td>33</td>\n",
       "      <td>male</td>\n",
       "      <td>22.705</td>\n",
       "      <td>0</td>\n",
       "      <td>no</td>\n",
       "      <td>northwest</td>\n",
       "      <td>21984.47061</td>\n",
       "    </tr>\n",
       "    <tr>\n",
       "      <th>4</th>\n",
       "      <td>32</td>\n",
       "      <td>male</td>\n",
       "      <td>28.880</td>\n",
       "      <td>0</td>\n",
       "      <td>no</td>\n",
       "      <td>northwest</td>\n",
       "      <td>3866.85520</td>\n",
       "    </tr>\n",
       "    <tr>\n",
       "      <th>...</th>\n",
       "      <td>...</td>\n",
       "      <td>...</td>\n",
       "      <td>...</td>\n",
       "      <td>...</td>\n",
       "      <td>...</td>\n",
       "      <td>...</td>\n",
       "      <td>...</td>\n",
       "    </tr>\n",
       "    <tr>\n",
       "      <th>1333</th>\n",
       "      <td>50</td>\n",
       "      <td>male</td>\n",
       "      <td>30.970</td>\n",
       "      <td>3</td>\n",
       "      <td>no</td>\n",
       "      <td>northwest</td>\n",
       "      <td>10600.54830</td>\n",
       "    </tr>\n",
       "    <tr>\n",
       "      <th>1334</th>\n",
       "      <td>18</td>\n",
       "      <td>female</td>\n",
       "      <td>31.920</td>\n",
       "      <td>0</td>\n",
       "      <td>no</td>\n",
       "      <td>northeast</td>\n",
       "      <td>2205.98080</td>\n",
       "    </tr>\n",
       "    <tr>\n",
       "      <th>1335</th>\n",
       "      <td>18</td>\n",
       "      <td>female</td>\n",
       "      <td>36.850</td>\n",
       "      <td>0</td>\n",
       "      <td>no</td>\n",
       "      <td>southeast</td>\n",
       "      <td>1629.83350</td>\n",
       "    </tr>\n",
       "    <tr>\n",
       "      <th>1336</th>\n",
       "      <td>21</td>\n",
       "      <td>female</td>\n",
       "      <td>25.800</td>\n",
       "      <td>0</td>\n",
       "      <td>no</td>\n",
       "      <td>southwest</td>\n",
       "      <td>2007.94500</td>\n",
       "    </tr>\n",
       "    <tr>\n",
       "      <th>1337</th>\n",
       "      <td>61</td>\n",
       "      <td>female</td>\n",
       "      <td>29.070</td>\n",
       "      <td>0</td>\n",
       "      <td>yes</td>\n",
       "      <td>northwest</td>\n",
       "      <td>29141.36030</td>\n",
       "    </tr>\n",
       "  </tbody>\n",
       "</table>\n",
       "<p>1338 rows × 7 columns</p>\n",
       "</div>"
      ],
      "text/plain": [
       "      age     sex     bmi  children smoker     region      charges\n",
       "0      19  female  27.900         0    yes  southwest  16884.92400\n",
       "1      18    male  33.770         1     no  southeast   1725.55230\n",
       "2      28    male  33.000         3     no  southeast   4449.46200\n",
       "3      33    male  22.705         0     no  northwest  21984.47061\n",
       "4      32    male  28.880         0     no  northwest   3866.85520\n",
       "...   ...     ...     ...       ...    ...        ...          ...\n",
       "1333   50    male  30.970         3     no  northwest  10600.54830\n",
       "1334   18  female  31.920         0     no  northeast   2205.98080\n",
       "1335   18  female  36.850         0     no  southeast   1629.83350\n",
       "1336   21  female  25.800         0     no  southwest   2007.94500\n",
       "1337   61  female  29.070         0    yes  northwest  29141.36030\n",
       "\n",
       "[1338 rows x 7 columns]"
      ]
     },
     "execution_count": 2,
     "metadata": {},
     "output_type": "execute_result"
    }
   ],
   "source": [
    "df = pd.read_csv('insurance.csv')\n",
    "df"
   ]
  },
  {
   "cell_type": "markdown",
   "id": "74cbcf38",
   "metadata": {},
   "source": [
    "### EDA :- "
   ]
  },
  {
   "cell_type": "code",
   "execution_count": 3,
   "id": "a4ec85cd",
   "metadata": {},
   "outputs": [
    {
     "name": "stdout",
     "output_type": "stream",
     "text": [
      "<class 'pandas.core.frame.DataFrame'>\n",
      "RangeIndex: 1338 entries, 0 to 1337\n",
      "Data columns (total 7 columns):\n",
      " #   Column    Non-Null Count  Dtype  \n",
      "---  ------    --------------  -----  \n",
      " 0   age       1338 non-null   int64  \n",
      " 1   sex       1338 non-null   object \n",
      " 2   bmi       1338 non-null   float64\n",
      " 3   children  1338 non-null   int64  \n",
      " 4   smoker    1338 non-null   object \n",
      " 5   region    1338 non-null   object \n",
      " 6   charges   1338 non-null   float64\n",
      "dtypes: float64(2), int64(2), object(3)\n",
      "memory usage: 73.3+ KB\n"
     ]
    }
   ],
   "source": [
    "df.info()"
   ]
  },
  {
   "cell_type": "markdown",
   "id": "2e0923d6",
   "metadata": {},
   "source": [
    "###### AGE :-"
   ]
  },
  {
   "cell_type": "code",
   "execution_count": 4,
   "id": "5f1a38ac",
   "metadata": {},
   "outputs": [
    {
     "data": {
      "text/plain": [
       "0       19\n",
       "1       18\n",
       "2       28\n",
       "3       33\n",
       "4       32\n",
       "        ..\n",
       "1333    50\n",
       "1334    18\n",
       "1335    18\n",
       "1336    21\n",
       "1337    61\n",
       "Name: age, Length: 1338, dtype: int64"
      ]
     },
     "execution_count": 4,
     "metadata": {},
     "output_type": "execute_result"
    }
   ],
   "source": [
    "df['age']"
   ]
  },
  {
   "cell_type": "code",
   "execution_count": 5,
   "id": "82fc0cdf",
   "metadata": {},
   "outputs": [
    {
     "data": {
      "text/plain": [
       "39.20702541106129"
      ]
     },
     "execution_count": 5,
     "metadata": {},
     "output_type": "execute_result"
    }
   ],
   "source": [
    "df['age'].mean()"
   ]
  },
  {
   "cell_type": "markdown",
   "id": "d1ec2888",
   "metadata": {},
   "source": [
    "###### BMI :- "
   ]
  },
  {
   "cell_type": "code",
   "execution_count": 6,
   "id": "42cb0dee",
   "metadata": {},
   "outputs": [
    {
     "data": {
      "text/plain": [
       "30.663396860986538"
      ]
     },
     "execution_count": 6,
     "metadata": {},
     "output_type": "execute_result"
    }
   ],
   "source": [
    "df['bmi'].mean()"
   ]
  },
  {
   "cell_type": "code",
   "execution_count": 7,
   "id": "3bb03e4d",
   "metadata": {},
   "outputs": [
    {
     "data": {
      "text/plain": [
       "0"
      ]
     },
     "execution_count": 7,
     "metadata": {},
     "output_type": "execute_result"
    }
   ],
   "source": [
    "df['bmi'].isna().sum()"
   ]
  },
  {
   "cell_type": "markdown",
   "id": "b4b39ed8",
   "metadata": {},
   "source": [
    "###### Children :-"
   ]
  },
  {
   "cell_type": "code",
   "execution_count": 8,
   "id": "58af7288",
   "metadata": {},
   "outputs": [
    {
     "data": {
      "text/plain": [
       "0    574\n",
       "1    324\n",
       "2    240\n",
       "3    157\n",
       "4     25\n",
       "5     18\n",
       "Name: children, dtype: int64"
      ]
     },
     "execution_count": 8,
     "metadata": {},
     "output_type": "execute_result"
    }
   ],
   "source": [
    "df['children'].value_counts()"
   ]
  },
  {
   "cell_type": "code",
   "execution_count": 9,
   "id": "87c3f2f7",
   "metadata": {},
   "outputs": [
    {
     "data": {
      "text/plain": [
       "0"
      ]
     },
     "execution_count": 9,
     "metadata": {},
     "output_type": "execute_result"
    }
   ],
   "source": [
    "df['children'].isna().sum()"
   ]
  },
  {
   "cell_type": "markdown",
   "id": "9275733b",
   "metadata": {},
   "source": [
    "###### SEX :-"
   ]
  },
  {
   "cell_type": "code",
   "execution_count": 10,
   "id": "ab743d07",
   "metadata": {},
   "outputs": [
    {
     "data": {
      "text/plain": [
       "{'male': 676, 'female': 662}"
      ]
     },
     "execution_count": 10,
     "metadata": {},
     "output_type": "execute_result"
    }
   ],
   "source": [
    "df['sex'].value_counts().to_dict()"
   ]
  },
  {
   "cell_type": "code",
   "execution_count": 11,
   "id": "ab2df050",
   "metadata": {},
   "outputs": [],
   "source": [
    "df['sex'].replace({'male': 0, 'female':1},inplace=True)\n"
   ]
  },
  {
   "cell_type": "code",
   "execution_count": 12,
   "id": "2d89a41b",
   "metadata": {},
   "outputs": [
    {
     "data": {
      "text/plain": [
       "0    676\n",
       "1    662\n",
       "Name: sex, dtype: int64"
      ]
     },
     "execution_count": 12,
     "metadata": {},
     "output_type": "execute_result"
    }
   ],
   "source": [
    "df['sex'].value_counts()"
   ]
  },
  {
   "cell_type": "markdown",
   "id": "60072a95",
   "metadata": {},
   "source": [
    "##### SMOKER :-"
   ]
  },
  {
   "cell_type": "code",
   "execution_count": 13,
   "id": "91d7cdc7",
   "metadata": {},
   "outputs": [
    {
     "data": {
      "text/plain": [
       "{'no': 1064, 'yes': 274}"
      ]
     },
     "execution_count": 13,
     "metadata": {},
     "output_type": "execute_result"
    }
   ],
   "source": [
    "df['smoker'].value_counts().to_dict()"
   ]
  },
  {
   "cell_type": "code",
   "execution_count": 14,
   "id": "e5454a4e",
   "metadata": {},
   "outputs": [],
   "source": [
    "df['smoker'].replace({'no': 0, 'yes': 1},inplace =True)"
   ]
  },
  {
   "cell_type": "code",
   "execution_count": 15,
   "id": "be5e6c79",
   "metadata": {},
   "outputs": [
    {
     "data": {
      "text/plain": [
       "0    1064\n",
       "1     274\n",
       "Name: smoker, dtype: int64"
      ]
     },
     "execution_count": 15,
     "metadata": {},
     "output_type": "execute_result"
    }
   ],
   "source": [
    "df['smoker'].value_counts()"
   ]
  },
  {
   "cell_type": "markdown",
   "id": "e5384fd0",
   "metadata": {},
   "source": [
    "###### REGION :-"
   ]
  },
  {
   "cell_type": "code",
   "execution_count": 16,
   "id": "01b609fc",
   "metadata": {},
   "outputs": [
    {
     "data": {
      "text/plain": [
       "{'southeast': 364, 'southwest': 325, 'northwest': 325, 'northeast': 324}"
      ]
     },
     "execution_count": 16,
     "metadata": {},
     "output_type": "execute_result"
    }
   ],
   "source": [
    "df['region'].value_counts().to_dict()"
   ]
  },
  {
   "cell_type": "code",
   "execution_count": 17,
   "id": "5f082588",
   "metadata": {},
   "outputs": [],
   "source": [
    "df['region'].replace({'southeast': 364, 'southwest': 325, 'northwest': 325, 'northeast': 4},inplace=True)"
   ]
  },
  {
   "cell_type": "code",
   "execution_count": 18,
   "id": "fcb2c6bb",
   "metadata": {},
   "outputs": [
    {
     "data": {
      "text/html": [
       "<div>\n",
       "<style scoped>\n",
       "    .dataframe tbody tr th:only-of-type {\n",
       "        vertical-align: middle;\n",
       "    }\n",
       "\n",
       "    .dataframe tbody tr th {\n",
       "        vertical-align: top;\n",
       "    }\n",
       "\n",
       "    .dataframe thead th {\n",
       "        text-align: right;\n",
       "    }\n",
       "</style>\n",
       "<table border=\"1\" class=\"dataframe\">\n",
       "  <thead>\n",
       "    <tr style=\"text-align: right;\">\n",
       "      <th></th>\n",
       "      <th>age</th>\n",
       "      <th>sex</th>\n",
       "      <th>bmi</th>\n",
       "      <th>children</th>\n",
       "      <th>smoker</th>\n",
       "      <th>region</th>\n",
       "      <th>charges</th>\n",
       "    </tr>\n",
       "  </thead>\n",
       "  <tbody>\n",
       "    <tr>\n",
       "      <th>age</th>\n",
       "      <td>1.000000</td>\n",
       "      <td>0.020856</td>\n",
       "      <td>0.109272</td>\n",
       "      <td>0.042469</td>\n",
       "      <td>-0.025019</td>\n",
       "      <td>-0.003755</td>\n",
       "      <td>0.299008</td>\n",
       "    </tr>\n",
       "    <tr>\n",
       "      <th>sex</th>\n",
       "      <td>0.020856</td>\n",
       "      <td>1.000000</td>\n",
       "      <td>-0.046371</td>\n",
       "      <td>-0.017163</td>\n",
       "      <td>-0.076185</td>\n",
       "      <td>-0.004366</td>\n",
       "      <td>-0.057292</td>\n",
       "    </tr>\n",
       "    <tr>\n",
       "      <th>bmi</th>\n",
       "      <td>0.109272</td>\n",
       "      <td>-0.046371</td>\n",
       "      <td>1.000000</td>\n",
       "      <td>0.012759</td>\n",
       "      <td>0.003750</td>\n",
       "      <td>0.163986</td>\n",
       "      <td>0.198341</td>\n",
       "    </tr>\n",
       "    <tr>\n",
       "      <th>children</th>\n",
       "      <td>0.042469</td>\n",
       "      <td>-0.017163</td>\n",
       "      <td>0.012759</td>\n",
       "      <td>1.000000</td>\n",
       "      <td>0.007673</td>\n",
       "      <td>0.018943</td>\n",
       "      <td>0.067998</td>\n",
       "    </tr>\n",
       "    <tr>\n",
       "      <th>smoker</th>\n",
       "      <td>-0.025019</td>\n",
       "      <td>-0.076185</td>\n",
       "      <td>0.003750</td>\n",
       "      <td>0.007673</td>\n",
       "      <td>1.000000</td>\n",
       "      <td>0.005555</td>\n",
       "      <td>0.787251</td>\n",
       "    </tr>\n",
       "    <tr>\n",
       "      <th>region</th>\n",
       "      <td>-0.003755</td>\n",
       "      <td>-0.004366</td>\n",
       "      <td>0.163986</td>\n",
       "      <td>0.018943</td>\n",
       "      <td>0.005555</td>\n",
       "      <td>1.000000</td>\n",
       "      <td>0.002845</td>\n",
       "    </tr>\n",
       "    <tr>\n",
       "      <th>charges</th>\n",
       "      <td>0.299008</td>\n",
       "      <td>-0.057292</td>\n",
       "      <td>0.198341</td>\n",
       "      <td>0.067998</td>\n",
       "      <td>0.787251</td>\n",
       "      <td>0.002845</td>\n",
       "      <td>1.000000</td>\n",
       "    </tr>\n",
       "  </tbody>\n",
       "</table>\n",
       "</div>"
      ],
      "text/plain": [
       "               age       sex       bmi  children    smoker    region   charges\n",
       "age       1.000000  0.020856  0.109272  0.042469 -0.025019 -0.003755  0.299008\n",
       "sex       0.020856  1.000000 -0.046371 -0.017163 -0.076185 -0.004366 -0.057292\n",
       "bmi       0.109272 -0.046371  1.000000  0.012759  0.003750  0.163986  0.198341\n",
       "children  0.042469 -0.017163  0.012759  1.000000  0.007673  0.018943  0.067998\n",
       "smoker   -0.025019 -0.076185  0.003750  0.007673  1.000000  0.005555  0.787251\n",
       "region   -0.003755 -0.004366  0.163986  0.018943  0.005555  1.000000  0.002845\n",
       "charges   0.299008 -0.057292  0.198341  0.067998  0.787251  0.002845  1.000000"
      ]
     },
     "execution_count": 18,
     "metadata": {},
     "output_type": "execute_result"
    }
   ],
   "source": [
    "df.corr()"
   ]
  },
  {
   "cell_type": "code",
   "execution_count": 19,
   "id": "0fecc1f1",
   "metadata": {},
   "outputs": [],
   "source": [
    "df.drop('region',axis=1,inplace=True) ### Region feature has no relation with dependent or target feature. "
   ]
  },
  {
   "cell_type": "code",
   "execution_count": 20,
   "id": "8a2148fa",
   "metadata": {},
   "outputs": [],
   "source": [
    "# df.drop('region',axis=1,inplace= True)"
   ]
  },
  {
   "cell_type": "code",
   "execution_count": 21,
   "id": "fe76f995",
   "metadata": {},
   "outputs": [
    {
     "data": {
      "text/html": [
       "<div>\n",
       "<style scoped>\n",
       "    .dataframe tbody tr th:only-of-type {\n",
       "        vertical-align: middle;\n",
       "    }\n",
       "\n",
       "    .dataframe tbody tr th {\n",
       "        vertical-align: top;\n",
       "    }\n",
       "\n",
       "    .dataframe thead th {\n",
       "        text-align: right;\n",
       "    }\n",
       "</style>\n",
       "<table border=\"1\" class=\"dataframe\">\n",
       "  <thead>\n",
       "    <tr style=\"text-align: right;\">\n",
       "      <th></th>\n",
       "      <th>age</th>\n",
       "      <th>sex</th>\n",
       "      <th>bmi</th>\n",
       "      <th>children</th>\n",
       "      <th>smoker</th>\n",
       "      <th>charges</th>\n",
       "    </tr>\n",
       "  </thead>\n",
       "  <tbody>\n",
       "    <tr>\n",
       "      <th>count</th>\n",
       "      <td>1338.000000</td>\n",
       "      <td>1338.000000</td>\n",
       "      <td>1338.000000</td>\n",
       "      <td>1338.000000</td>\n",
       "      <td>1338.000000</td>\n",
       "      <td>1338.000000</td>\n",
       "    </tr>\n",
       "    <tr>\n",
       "      <th>mean</th>\n",
       "      <td>39.207025</td>\n",
       "      <td>0.494768</td>\n",
       "      <td>30.663397</td>\n",
       "      <td>1.094918</td>\n",
       "      <td>0.204783</td>\n",
       "      <td>13270.422265</td>\n",
       "    </tr>\n",
       "    <tr>\n",
       "      <th>std</th>\n",
       "      <td>14.049960</td>\n",
       "      <td>0.500160</td>\n",
       "      <td>6.098187</td>\n",
       "      <td>1.205493</td>\n",
       "      <td>0.403694</td>\n",
       "      <td>12110.011237</td>\n",
       "    </tr>\n",
       "    <tr>\n",
       "      <th>min</th>\n",
       "      <td>18.000000</td>\n",
       "      <td>0.000000</td>\n",
       "      <td>15.960000</td>\n",
       "      <td>0.000000</td>\n",
       "      <td>0.000000</td>\n",
       "      <td>1121.873900</td>\n",
       "    </tr>\n",
       "    <tr>\n",
       "      <th>25%</th>\n",
       "      <td>27.000000</td>\n",
       "      <td>0.000000</td>\n",
       "      <td>26.296250</td>\n",
       "      <td>0.000000</td>\n",
       "      <td>0.000000</td>\n",
       "      <td>4740.287150</td>\n",
       "    </tr>\n",
       "    <tr>\n",
       "      <th>50%</th>\n",
       "      <td>39.000000</td>\n",
       "      <td>0.000000</td>\n",
       "      <td>30.400000</td>\n",
       "      <td>1.000000</td>\n",
       "      <td>0.000000</td>\n",
       "      <td>9382.033000</td>\n",
       "    </tr>\n",
       "    <tr>\n",
       "      <th>75%</th>\n",
       "      <td>51.000000</td>\n",
       "      <td>1.000000</td>\n",
       "      <td>34.693750</td>\n",
       "      <td>2.000000</td>\n",
       "      <td>0.000000</td>\n",
       "      <td>16639.912515</td>\n",
       "    </tr>\n",
       "    <tr>\n",
       "      <th>max</th>\n",
       "      <td>64.000000</td>\n",
       "      <td>1.000000</td>\n",
       "      <td>53.130000</td>\n",
       "      <td>5.000000</td>\n",
       "      <td>1.000000</td>\n",
       "      <td>63770.428010</td>\n",
       "    </tr>\n",
       "  </tbody>\n",
       "</table>\n",
       "</div>"
      ],
      "text/plain": [
       "               age          sex          bmi     children       smoker  \\\n",
       "count  1338.000000  1338.000000  1338.000000  1338.000000  1338.000000   \n",
       "mean     39.207025     0.494768    30.663397     1.094918     0.204783   \n",
       "std      14.049960     0.500160     6.098187     1.205493     0.403694   \n",
       "min      18.000000     0.000000    15.960000     0.000000     0.000000   \n",
       "25%      27.000000     0.000000    26.296250     0.000000     0.000000   \n",
       "50%      39.000000     0.000000    30.400000     1.000000     0.000000   \n",
       "75%      51.000000     1.000000    34.693750     2.000000     0.000000   \n",
       "max      64.000000     1.000000    53.130000     5.000000     1.000000   \n",
       "\n",
       "            charges  \n",
       "count   1338.000000  \n",
       "mean   13270.422265  \n",
       "std    12110.011237  \n",
       "min     1121.873900  \n",
       "25%     4740.287150  \n",
       "50%     9382.033000  \n",
       "75%    16639.912515  \n",
       "max    63770.428010  "
      ]
     },
     "execution_count": 21,
     "metadata": {},
     "output_type": "execute_result"
    }
   ],
   "source": [
    "df.describe()"
   ]
  },
  {
   "cell_type": "markdown",
   "id": "6faafcc4",
   "metadata": {},
   "source": [
    "### Description of Dataset :-"
   ]
  },
  {
   "cell_type": "markdown",
   "id": "f7a72748",
   "metadata": {},
   "source": [
    "###### Charge Vs BMI :-"
   ]
  },
  {
   "cell_type": "code",
   "execution_count": 22,
   "id": "de2680fc",
   "metadata": {},
   "outputs": [
    {
     "data": {
      "image/png": "[encoded data removed]",
      "text/plain": [
       "<Figure size 864x432 with 1 Axes>"
      ]
     },
     "metadata": {
      "needs_background": "light"
     },
     "output_type": "display_data"
    }
   ],
   "source": [
    "sns.lmplot(x='bmi',y='charges',data=df,aspect=2,height=6)\n",
    "plt.xlabel('Boby Mass Index$(kg/m^2)$: as Independent variable')\n",
    "plt.ylabel('Insurance Charges: as Dependent variable')\n",
    "plt.title('Charge Vs BMI');"
   ]
  },
  {
   "cell_type": "markdown",
   "id": "f8334fbb",
   "metadata": {},
   "source": [
    "###### Missing value  in  dataset :-"
   ]
  },
  {
   "cell_type": "code",
   "execution_count": 23,
   "id": "8134eff4",
   "metadata": {},
   "outputs": [
    {
     "data": {
      "text/plain": [
       "Text(0.5, 1.0, 'Missing value in the dataset')"
      ]
     },
     "execution_count": 23,
     "metadata": {},
     "output_type": "execute_result"
    },
    {
     "data": {
      "image/png": "[encoded data removed]",
      "text/plain": [
       "<Figure size 864x288 with 1 Axes>"
      ]
     },
     "metadata": {
      "needs_background": "light"
     },
     "output_type": "display_data"
    }
   ],
   "source": [
    "plt.figure(figsize=(12,4))\n",
    "sns.heatmap(df.isnull(),cbar=False,cmap='viridis',yticklabels=False)\n",
    "plt.title('Missing value in the dataset')"
   ]
  },
  {
   "cell_type": "markdown",
   "id": "cb8e0052",
   "metadata": {},
   "source": [
    "##### Correlation plot :-"
   ]
  },
  {
   "cell_type": "code",
   "execution_count": 24,
   "id": "8a18650e",
   "metadata": {},
   "outputs": [
    {
     "data": {
      "image/png": "[encoded data removed]",
      "text/plain": [
       "<Figure size 432x288 with 2 Axes>"
      ]
     },
     "metadata": {
      "needs_background": "light"
     },
     "output_type": "display_data"
    }
   ],
   "source": [
    "corr = df.corr()\n",
    "sns.heatmap(corr, cmap = 'Wistia', annot= True);"
   ]
  },
  {
   "cell_type": "markdown",
   "id": "363468b1",
   "metadata": {},
   "source": [
    "###### Distribution of insurance charges in log scale :-"
   ]
  },
  {
   "cell_type": "code",
   "execution_count": 25,
   "id": "963e3d66",
   "metadata": {},
   "outputs": [
    {
     "data": {
      "image/png": "[encoded data removed]",
      "text/plain": [
       "<Figure size 864x288 with 2 Axes>"
      ]
     },
     "metadata": {
      "needs_background": "light"
     },
     "output_type": "display_data"
    }
   ],
   "source": [
    "f= plt.figure(figsize=(12,4))\n",
    "\n",
    "ax=f.add_subplot(121)\n",
    "sns.distplot(df['charges'],bins=50,color='r',ax=ax)\n",
    "ax.set_title('Distribution of insurance charges')\n",
    "\n",
    "ax=f.add_subplot(122)\n",
    "sns.distplot(np.log10(df['charges']),bins=40,color='b',ax=ax)\n",
    "ax.set_title('Distribution of insurance charges in $log$ sacle')\n",
    "ax.set_xscale('log');"
   ]
  },
  {
   "cell_type": "markdown",
   "id": "ca6511a7",
   "metadata": {},
   "source": [
    "###### Charge VS Sex :-"
   ]
  },
  {
   "cell_type": "code",
   "execution_count": 26,
   "id": "94cdc934",
   "metadata": {},
   "outputs": [
    {
     "data": {
      "image/png": "[encoded data removed]",
      "text/plain": [
       "<Figure size 1008x432 with 2 Axes>"
      ]
     },
     "metadata": {
      "needs_background": "light"
     },
     "output_type": "display_data"
    }
   ],
   "source": [
    "f = plt.figure(figsize=(14,6))\n",
    "ax = f.add_subplot(121)\n",
    "sns.boxplot(x='sex', y='charges',data=df,palette='Wistia',ax=ax)\n",
    "ax.set_title('Box plot of Charges vs sex')\n",
    "\n",
    "ax = f.add_subplot(122)\n",
    "sns.boxplot(x='smoker', y='charges',data=df,palette='magma',ax=ax)\n",
    "ax.set_title('Box plot of Charges vs smoker');"
   ]
  },
  {
   "cell_type": "markdown",
   "id": "c1aa431b",
   "metadata": {},
   "source": [
    "###### Scatter plot of Charges vs bmi :-"
   ]
  },
  {
   "cell_type": "code",
   "execution_count": 27,
   "id": "9feef506",
   "metadata": {},
   "outputs": [
    {
     "data": {
      "image/png": "[encoded data removed]",
      "text/plain": [
       "<Figure size 1008x432 with 1 Axes>"
      ]
     },
     "metadata": {
      "needs_background": "light"
     },
     "output_type": "display_data"
    }
   ],
   "source": [
    "f = plt.figure(figsize=(14,6))\n",
    "\n",
    "\n",
    "ax = f.add_subplot(122)\n",
    "sns.scatterplot(x='bmi',y='charges',data=df,palette='viridis',hue='smoker')\n",
    "ax.set_title('Scatter plot of Charges vs bmi')\n",
    "plt.savefig('sc.png');"
   ]
  },
  {
   "cell_type": "markdown",
   "id": "bc2cc7ab",
   "metadata": {},
   "source": [
    "###### Scatter plot of Charges vs age :-"
   ]
  },
  {
   "cell_type": "code",
   "execution_count": 28,
   "id": "6cb402a1",
   "metadata": {},
   "outputs": [
    {
     "data": {
      "text/plain": [
       "Text(0.5, 1.0, 'Scatter plot of Charges vs age')"
      ]
     },
     "execution_count": 28,
     "metadata": {},
     "output_type": "execute_result"
    },
    {
     "data": {
      "image/png": "[encoded data removed]",
      "text/plain": [
       "<Figure size 1008x432 with 1 Axes>"
      ]
     },
     "metadata": {
      "needs_background": "light"
     },
     "output_type": "display_data"
    }
   ],
   "source": [
    "f = plt.figure(figsize=(14,6))\n",
    "ax = f.add_subplot(121)\n",
    "sns.scatterplot(x='age',y='charges',data=df,palette='magma',hue='smoker',ax=ax)\n",
    "ax.set_title('Scatter plot of Charges vs age')"
   ]
  },
  {
   "cell_type": "markdown",
   "id": "e3fe748b",
   "metadata": {},
   "source": [
    "### Feature Selection :-"
   ]
  },
  {
   "cell_type": "code",
   "execution_count": 29,
   "id": "5e80475f",
   "metadata": {},
   "outputs": [],
   "source": [
    "x = df.drop('charges',axis=True)\n",
    "y = df['charges']"
   ]
  },
  {
   "cell_type": "code",
   "execution_count": 30,
   "id": "db9d8216",
   "metadata": {},
   "outputs": [],
   "source": [
    "# x= df[['smoker']]\n",
    "# y = df['charges']"
   ]
  },
  {
   "cell_type": "markdown",
   "id": "64339eea",
   "metadata": {},
   "source": [
    "### Train_test_split :-"
   ]
  },
  {
   "cell_type": "code",
   "execution_count": 31,
   "id": "7a92a892",
   "metadata": {},
   "outputs": [],
   "source": [
    "x_train,x_test,y_train,y_test = train_test_split(x,y,test_size=0.25,random_state =1)"
   ]
  },
  {
   "cell_type": "code",
   "execution_count": 32,
   "id": "68f523cf",
   "metadata": {},
   "outputs": [
    {
     "name": "stdout",
     "output_type": "stream",
     "text": [
      "Shape of x_train = (1003, 5)\n",
      "Shape of x_test = (335, 5)\n",
      "Shape of y_train = (1003,)\n",
      "Shape of y_test = (335,)\n"
     ]
    }
   ],
   "source": [
    "print(f'Shape of x_train = {x_train.shape}')\n",
    "print(f'Shape of x_test = {x_test.shape}')\n",
    "print(f'Shape of y_train = {y_train.shape}')\n",
    "print(f'Shape of y_test = {y_test.shape}')\n"
   ]
  },
  {
   "cell_type": "markdown",
   "id": "6a828e50",
   "metadata": {},
   "source": [
    "### Creation of function :- "
   ]
  },
  {
   "cell_type": "markdown",
   "id": "53f267be",
   "metadata": {},
   "source": [
    "###### function for Model :-"
   ]
  },
  {
   "cell_type": "code",
   "execution_count": 33,
   "id": "cc1b9eed",
   "metadata": {},
   "outputs": [],
   "source": [
    "def model(m_name,xtrain,ytrain):\n",
    "    model = m_name\n",
    "    model.fit(xtrain,ytrain)\n",
    "    return model.fit(xtrain,ytrain)"
   ]
  },
  {
   "cell_type": "markdown",
   "id": "f276ff75",
   "metadata": {},
   "source": [
    "###### function for Scaling :-"
   ]
  },
  {
   "cell_type": "code",
   "execution_count": 34,
   "id": "06c7d64e",
   "metadata": {},
   "outputs": [],
   "source": [
    "def scaling(technique_name,xtrain):\n",
    "    if technique_name == StandardScaler:\n",
    "        scaled = StandardScaler()\n",
    "        scaled_model = scaled.fit_transform(xtrain)\n",
    "    else:\n",
    "        scaled = MinMaxScaler()\n",
    "        scaled_model = scaled.fit_transform(xtrain)\n",
    "    return scaled_model"
   ]
  },
  {
   "cell_type": "markdown",
   "id": "c7b2a9db",
   "metadata": {},
   "source": [
    "###### function for Hyperparameter Model :- "
   ]
  },
  {
   "cell_type": "code",
   "execution_count": 65,
   "id": "40ed78b2",
   "metadata": {},
   "outputs": [],
   "source": [
    "def hyp_model(m_name,hyp_para,xtrain,ytrain):\n",
    "    hyp_model = GridSearchCV(m_name,hyp_para,cv=5)\n",
    "    hyp_model.fit(xtrain,ytrain)\n",
    "    tune_model = hyp_model.best_estimator_\n",
    "    return tune_model.fit(xtrain,ytrain)\n",
    "\n",
    "\n",
    "def hyp_model_random_cv(m_name,hyp_para,xtrain,ytrain):\n",
    "    hyp_model_randomcv = RandomizedSearchCV(m_name,hyp_para,cv=5)\n",
    "    hyp_model_randomcv.fit(xtrain,ytrain)\n",
    "    tune_model_cv = hyp_model_randomcv.best_estimator_\n",
    "    return tune_model_cv.fit(xtrain,ytrain)"
   ]
  },
  {
   "cell_type": "markdown",
   "id": "9c96c0d0",
   "metadata": {},
   "source": [
    "###### function for pruning of tree :-"
   ]
  },
  {
   "cell_type": "code",
   "execution_count": 36,
   "id": "f7d44640",
   "metadata": {},
   "outputs": [],
   "source": [
    "def pruning(m_name,xtrain,ytrain,xtest,ytest):\n",
    "    ccp_dict = m_name.cost_complexity_pruning_path(xtrain,ytrain)\n",
    "    diff_dict = {}\n",
    "    for i in ccp_dict['ccp_alphas'].values():\n",
    "        prune_model =DecisionTreeRegressor(ccp_alpha=i, random_state=20)\n",
    "        prune_model.fit(xtrain,y_train)\n",
    "        test_acc = prune_model.score(xtest,ytest)\n",
    "        train_acc = prune_model.score(xtrain,ytrain)\n",
    "        if train_acc > test_acc:\n",
    "            diff = train_acc - test_acc\n",
    "            diff_dict.update({i:diff})\n",
    "    min_value = min(sorted(diff_dict.values()))\n",
    "    for j in diff_dict.keys():\n",
    "        if diff_dict[j] == min_value:\n",
    "            ccp_alpha = j\n",
    "    return ccp_alpha        \n",
    "    "
   ]
  },
  {
   "cell_type": "code",
   "execution_count": 37,
   "id": "83543935",
   "metadata": {},
   "outputs": [],
   "source": [
    "def post_pruning(m_name,xtrain,ytrain,xtest,ytest):\n",
    "    ccp_dict = m_name.cost_complexity_pruning_path(xtrain,ytrain)\n",
    "    r2_score_test_list = []\n",
    "    r2_score_train_list = []\n",
    "    ccp_alpha_val = []\n",
    "#     print(ccp_dict['ccp_alphas'])\n",
    "    for i in ccp_dict['ccp_alphas']:\n",
    "        prune_model =DecisionTreeRegressor(ccp_alpha=i, random_state=20)\n",
    "        prune_model.fit(xtrain,y_train)\n",
    "        test_acc = prune_model.score(xtest,ytest)\n",
    "        train_acc = prune_model.score(xtrain,ytrain)\n",
    "        r2_score_test_list.append(test_acc)\n",
    "        r2_score_train_list.append(train_acc)\n",
    "        ccp_alpha_val.append(i)\n",
    "    \n",
    "        ####### Print\n",
    "        print(f\"CCP\\t R2_score Test \\t R2_Score Train\")\n",
    "        print(f\"{i}\\t {test_acc} \\t {train_acc}\")\n",
    "    return \"Cost complexity Pruning Done Successfully\"    "
   ]
  },
  {
   "cell_type": "markdown",
   "id": "dbf6d226",
   "metadata": {},
   "source": [
    "###### function for evalution :-"
   ]
  },
  {
   "cell_type": "code",
   "execution_count": 38,
   "id": "aca87deb",
   "metadata": {},
   "outputs": [],
   "source": [
    "\n",
    "\n",
    "def test_vallidation(actual,prediction,xtest):\n",
    "    mse = mean_squared_error(actual,prediction)\n",
    "    rmse = np.sqrt(mse)\n",
    "    r2   = r2_score(actual,prediction)\n",
    "    n,p = xtest.shape\n",
    "    adj_r2 = 1 - (((1-r2) * (n-1)) / (n - p - 1))\n",
    "    return mse,rmse,r2,adj_r2\n",
    "\n",
    "def printin_accuracy(result):\n",
    "    print(f'Mean Squared Error = {result[0]}')\n",
    "    print(f'Root Mean Squared Error = {result[1]}')\n",
    "    print(f'R2-Squared Error = {(result[2])*100}')\n",
    "    print(f'Adjusted R2-Squared  Error = {(result[3])*100}')\n",
    "    return 'All result Printed'"
   ]
  },
  {
   "cell_type": "markdown",
   "id": "551608d4",
   "metadata": {},
   "source": [
    "# Model- Training :-"
   ]
  },
  {
   "cell_type": "markdown",
   "id": "a914eaa3",
   "metadata": {},
   "source": [
    "# LinearRegression :-"
   ]
  },
  {
   "cell_type": "code",
   "execution_count": 39,
   "id": "08f40f1a",
   "metadata": {},
   "outputs": [
    {
     "data": {
      "text/plain": [
       "LinearRegression()"
      ]
     },
     "execution_count": 39,
     "metadata": {},
     "output_type": "execute_result"
    }
   ],
   "source": [
    "linear_model = model(LinearRegression(),x_train,y_train)\n",
    "linear_model\n",
    "# linear_model.fit(x_train,y_train)"
   ]
  },
  {
   "cell_type": "markdown",
   "id": "d4406dc8",
   "metadata": {},
   "source": [
    "##### Testing Accuracy -:"
   ]
  },
  {
   "cell_type": "code",
   "execution_count": 40,
   "id": "28ba29c5",
   "metadata": {},
   "outputs": [
    {
     "name": "stdout",
     "output_type": "stream",
     "text": [
      "Mean Squared Error = 36117680.015143536\n",
      "Root Mean Squared Error = 6009.798666772751\n",
      "R2-Squared Error = 73.14978720846356\n",
      "Adjusted R2-Squared  Error = 72.74172926330344\n"
     ]
    },
    {
     "data": {
      "text/plain": [
       "'All result Printed'"
      ]
     },
     "execution_count": 40,
     "metadata": {},
     "output_type": "execute_result"
    }
   ],
   "source": [
    "y_predict = linear_model.predict(x_test)\n",
    "result =  test_vallidation(y_test,y_predict,x_test)\n",
    "printin_accuracy(result)"
   ]
  },
  {
   "cell_type": "markdown",
   "id": "c3c617c6",
   "metadata": {},
   "source": [
    "###### Training Accuracy :-"
   ]
  },
  {
   "cell_type": "code",
   "execution_count": 41,
   "id": "a0d76a19",
   "metadata": {},
   "outputs": [
    {
     "name": "stdout",
     "output_type": "stream",
     "text": [
      "Mean Squared Error = 36929324.05130681\n",
      "Root Mean Squared Error = 6076.950226166642\n",
      "R2-Squared Error = 75.4582112182506\n",
      "Adjusted R2-Squared  Error = 75.33513303980651\n"
     ]
    },
    {
     "data": {
      "text/plain": [
       "'All result Printed'"
      ]
     },
     "execution_count": 41,
     "metadata": {},
     "output_type": "execute_result"
    }
   ],
   "source": [
    "y_predict1 = linear_model.predict(x_train)\n",
    "result =  test_vallidation(y_train,y_predict1,x_train)\n",
    "printin_accuracy(result)"
   ]
  },
  {
   "cell_type": "markdown",
   "id": "b5aea780",
   "metadata": {},
   "source": [
    "# KNN :-"
   ]
  },
  {
   "cell_type": "code",
   "execution_count": 42,
   "id": "dfe89cb9",
   "metadata": {},
   "outputs": [],
   "source": [
    "###first we scale our model "
   ]
  },
  {
   "cell_type": "code",
   "execution_count": 43,
   "id": "d295bb4c",
   "metadata": {},
   "outputs": [],
   "source": [
    "scaled_x_train = scaling(StandardScaler,x_train)\n",
    "scaled_x_test = scaling(StandardScaler,x_test)"
   ]
  },
  {
   "cell_type": "code",
   "execution_count": 44,
   "id": "212af7a0",
   "metadata": {},
   "outputs": [
    {
     "data": {
      "text/plain": [
       "KNeighborsRegressor()"
      ]
     },
     "execution_count": 44,
     "metadata": {},
     "output_type": "execute_result"
    }
   ],
   "source": [
    "knn_model = model(KNeighborsRegressor(),scaled_x_train,y_train)\n",
    "knn_model"
   ]
  },
  {
   "cell_type": "markdown",
   "id": "e6e8554e",
   "metadata": {},
   "source": [
    "###### Testing Accuracy :- "
   ]
  },
  {
   "cell_type": "code",
   "execution_count": 45,
   "id": "be01cb46",
   "metadata": {},
   "outputs": [
    {
     "name": "stdout",
     "output_type": "stream",
     "text": [
      "Mean Squared Error = 26754457.733774576\n",
      "Root Mean Squared Error = 5172.471143831986\n",
      "R2-Squared Error = 80.1104920644732\n",
      "Adjusted R2-Squared  Error = 79.80821990739832\n"
     ]
    },
    {
     "data": {
      "text/plain": [
       "'All result Printed'"
      ]
     },
     "execution_count": 45,
     "metadata": {},
     "output_type": "execute_result"
    }
   ],
   "source": [
    "y_predict_knn = knn_model.predict(scaled_x_test)\n",
    "result_knn =  test_vallidation(y_test,y_predict_knn,scaled_x_test)\n",
    "printin_accuracy(result_knn)"
   ]
  },
  {
   "cell_type": "markdown",
   "id": "dd52a558",
   "metadata": {},
   "source": [
    "###### Training Accuracy :-"
   ]
  },
  {
   "cell_type": "code",
   "execution_count": 46,
   "id": "3798ce6e",
   "metadata": {},
   "outputs": [
    {
     "name": "stdout",
     "output_type": "stream",
     "text": [
      "Mean Squared Error = 18975456.877761584\n",
      "Root Mean Squared Error = 4356.082744595376\n",
      "R2-Squared Error = 87.38965126780491\n",
      "Adjusted R2-Squared  Error = 87.32640979973974\n"
     ]
    },
    {
     "data": {
      "text/plain": [
       "'All result Printed'"
      ]
     },
     "execution_count": 46,
     "metadata": {},
     "output_type": "execute_result"
    }
   ],
   "source": [
    "y_predict1_knn = knn_model.predict(scaled_x_train)\n",
    "result =  test_vallidation(y_train,y_predict1_knn,scaled_x_train)\n",
    "printin_accuracy(result)"
   ]
  },
  {
   "cell_type": "raw",
   "id": "aa688c2e",
   "metadata": {},
   "source": [
    "There is low bias but high varrience between testing and training accuracy and it is condition for overfitting .So for decreasing the varrience and make our model genralised we would do Hyperparameter tunning. "
   ]
  },
  {
   "cell_type": "markdown",
   "id": "77193e45",
   "metadata": {},
   "source": [
    "###### Hyperparameter Tunning :-"
   ]
  },
  {
   "cell_type": "code",
   "execution_count": 47,
   "id": "50b35974",
   "metadata": {},
   "outputs": [
    {
     "data": {
      "text/plain": [
       "KNeighborsRegressor(n_neighbors=13)"
      ]
     },
     "execution_count": 47,
     "metadata": {},
     "output_type": "execute_result"
    }
   ],
   "source": [
    "model_name = KNeighborsRegressor()\n",
    "hyper_para = {'n_neighbors':np.arange(2,20),\n",
    "                'p' : [1,2]}\n",
    "\n",
    "tunned_model = hyp_model(model_name,hyper_para,scaled_x_train,y_train)\n",
    "tunned_model"
   ]
  },
  {
   "cell_type": "markdown",
   "id": "67a4fbc1",
   "metadata": {},
   "source": [
    "###### Tunned model testing Accuracy :-"
   ]
  },
  {
   "cell_type": "code",
   "execution_count": 48,
   "id": "7bd467a1",
   "metadata": {},
   "outputs": [
    {
     "name": "stdout",
     "output_type": "stream",
     "text": [
      "Mean Squared Error = 24896389.646914694\n",
      "Root Mean Squared Error = 4989.628207283053\n",
      "R2-Squared Error = 81.49179682968605\n",
      "Adjusted R2-Squared  Error = 81.21051714624664\n"
     ]
    },
    {
     "data": {
      "text/plain": [
       "'All result Printed'"
      ]
     },
     "execution_count": 48,
     "metadata": {},
     "output_type": "execute_result"
    }
   ],
   "source": [
    "y_predict_knn_tunned = tunned_model.predict(scaled_x_test)\n",
    "result_knn_tunned =  test_vallidation(y_test,y_predict_knn_tunned,scaled_x_test)\n",
    "printin_accuracy(result_knn_tunned)"
   ]
  },
  {
   "cell_type": "markdown",
   "id": "2bffab49",
   "metadata": {},
   "source": [
    "###### Tunned model training accuracy :-"
   ]
  },
  {
   "cell_type": "code",
   "execution_count": 49,
   "id": "5ad92eda",
   "metadata": {},
   "outputs": [
    {
     "name": "stdout",
     "output_type": "stream",
     "text": [
      "Mean Squared Error = 21977532.951546475\n",
      "Root Mean Squared Error = 4688.020152638689\n",
      "R2-Squared Error = 85.39458856892604\n",
      "Adjusted R2-Squared  Error = 85.32134177137803\n"
     ]
    },
    {
     "data": {
      "text/plain": [
       "'All result Printed'"
      ]
     },
     "execution_count": 49,
     "metadata": {},
     "output_type": "execute_result"
    }
   ],
   "source": [
    "y_predict1_knn_tunned = tunned_model.predict(scaled_x_train)\n",
    "result_training =  test_vallidation(y_train,y_predict1_knn_tunned,scaled_x_train)\n",
    "printin_accuracy(result_training)"
   ]
  },
  {
   "cell_type": "raw",
   "id": "3ba9ba3a",
   "metadata": {},
   "source": [
    "Now we have low bias and low varrience which is condition for genralised model."
   ]
  },
  {
   "cell_type": "markdown",
   "id": "b60a116a",
   "metadata": {},
   "source": [
    "# Decision Tree :-"
   ]
  },
  {
   "cell_type": "code",
   "execution_count": 50,
   "id": "7f66034a",
   "metadata": {},
   "outputs": [
    {
     "data": {
      "text/plain": [
       "DecisionTreeRegressor(random_state=20)"
      ]
     },
     "execution_count": 50,
     "metadata": {},
     "output_type": "execute_result"
    }
   ],
   "source": [
    "decision_tree_model = model(DecisionTreeRegressor(random_state=20),x_train,y_train)\n",
    "decision_tree_model"
   ]
  },
  {
   "cell_type": "markdown",
   "id": "0d4f7f79",
   "metadata": {},
   "source": [
    "###### Testing accuracy :- "
   ]
  },
  {
   "cell_type": "code",
   "execution_count": 51,
   "id": "c90d917f",
   "metadata": {},
   "outputs": [
    {
     "name": "stdout",
     "output_type": "stream",
     "text": [
      "Mean Squared Error = 48568088.23340364\n",
      "Root Mean Squared Error = 6969.080874362388\n",
      "R2-Squared Error = 63.894040165419476\n",
      "Adjusted R2-Squared  Error = 63.34531737158087\n"
     ]
    },
    {
     "data": {
      "text/plain": [
       "'All result Printed'"
      ]
     },
     "execution_count": 51,
     "metadata": {},
     "output_type": "execute_result"
    }
   ],
   "source": [
    "y_predict_tree = decision_tree_model.predict(x_test)\n",
    "result_tree =  test_vallidation(y_test,y_predict_tree,x_test)\n",
    "printin_accuracy(result_tree)"
   ]
  },
  {
   "cell_type": "markdown",
   "id": "13c0bffe",
   "metadata": {},
   "source": [
    "###### Traning Accuracy :-"
   ]
  },
  {
   "cell_type": "code",
   "execution_count": 52,
   "id": "80e8e562",
   "metadata": {},
   "outputs": [
    {
     "name": "stdout",
     "output_type": "stream",
     "text": [
      "Mean Squared Error = 0.0\n",
      "Root Mean Squared Error = 0.0\n",
      "R2-Squared Error = 100.0\n",
      "Adjusted R2-Squared  Error = 100.0\n"
     ]
    },
    {
     "data": {
      "text/plain": [
       "'All result Printed'"
      ]
     },
     "execution_count": 52,
     "metadata": {},
     "output_type": "execute_result"
    }
   ],
   "source": [
    "y_predict1_tree = decision_tree_model.predict(x_train)\n",
    "result_tree_train =  test_vallidation(y_train,y_predict1_tree,x_train)\n",
    "printin_accuracy(result_tree_train)"
   ]
  },
  {
   "cell_type": "raw",
   "id": "3b38287f",
   "metadata": {},
   "source": [
    "We have condition for low bias and high varrience so we can call our model has overfitted model.\n",
    "so for making our model genralised we have two methods :-\n",
    "                        \n",
    "                                 1) pre-pruning - Hyperpara tunning \n",
    "                                 2) post-pruning - cost comprexity pruning method\n",
    "                                 "
   ]
  },
  {
   "cell_type": "markdown",
   "id": "f05c89db",
   "metadata": {},
   "source": [
    "###### Hyperpara Meter Tunning :-"
   ]
  },
  {
   "cell_type": "code",
   "execution_count": 53,
   "id": "0067d11d",
   "metadata": {},
   "outputs": [
    {
     "data": {
      "text/plain": [
       "DecisionTreeRegressor(max_depth=3, max_leaf_nodes=7, min_samples_leaf=5,\n",
       "                      min_samples_split=5, random_state=20)"
      ]
     },
     "execution_count": 53,
     "metadata": {},
     "output_type": "execute_result"
    }
   ],
   "source": [
    "model_name_tree = DecisionTreeRegressor(random_state=20)\n",
    "hyper_para_tree = {'criterion':['mse','mae'],\n",
    "    'max_depth':np.arange(3,8),\n",
    "    'min_samples_split':np.arange(5,15),\n",
    "    'min_samples_leaf':np.arange(5,10),\n",
    "    'max_leaf_nodes':np.arange(2,8)}\n",
    "\n",
    "tunned_model_tree = hyp_model(model_name_tree,hyper_para_tree,x_train,y_train)\n",
    "tunned_model_tree"
   ]
  },
  {
   "cell_type": "markdown",
   "id": "1d38a605",
   "metadata": {},
   "source": [
    "###### Tunned Model Testing Accuracy :-"
   ]
  },
  {
   "cell_type": "code",
   "execution_count": 54,
   "id": "bc47d2ba",
   "metadata": {},
   "outputs": [
    {
     "name": "stdout",
     "output_type": "stream",
     "text": [
      "Mean Squared Error = 23266913.8163747\n",
      "Root Mean Squared Error = 4823.578942691277\n",
      "R2-Squared Error = 82.70316402631441\n",
      "Adjusted R2-Squared  Error = 82.44029417869001\n"
     ]
    },
    {
     "data": {
      "text/plain": [
       "'All result Printed'"
      ]
     },
     "execution_count": 54,
     "metadata": {},
     "output_type": "execute_result"
    }
   ],
   "source": [
    "y_predict_tunned_tree = tunned_model_tree.predict(x_test)\n",
    "result_tunned_tree =  test_vallidation(y_test,y_predict_tunned_tree,x_test)\n",
    "printin_accuracy(result_tunned_tree)"
   ]
  },
  {
   "cell_type": "markdown",
   "id": "0f66bb4d",
   "metadata": {},
   "source": [
    "###### Tunned Model Training Accuracy :-"
   ]
  },
  {
   "cell_type": "code",
   "execution_count": 55,
   "id": "dda2332c",
   "metadata": {},
   "outputs": [
    {
     "name": "stdout",
     "output_type": "stream",
     "text": [
      "Mean Squared Error = 21733317.359634895\n",
      "Root Mean Squared Error = 4661.900616662146\n",
      "R2-Squared Error = 85.55688472862767\n",
      "Adjusted R2-Squared  Error = 85.48445185364585\n"
     ]
    },
    {
     "data": {
      "text/plain": [
       "'All result Printed'"
      ]
     },
     "execution_count": 55,
     "metadata": {},
     "output_type": "execute_result"
    }
   ],
   "source": [
    "y_predict1_tunned_tree = tunned_model_tree.predict(x_train)\n",
    "result_tunned_tree_train =  test_vallidation(y_train,y_predict1_tunned_tree,x_train)\n",
    "printin_accuracy(result_tunned_tree_train)"
   ]
  },
  {
   "cell_type": "markdown",
   "id": "1524f690",
   "metadata": {},
   "source": [
    "###### Cost Complexity pruning :-"
   ]
  },
  {
   "cell_type": "code",
   "execution_count": 56,
   "id": "0aa4c944",
   "metadata": {},
   "outputs": [
    {
     "name": "stdout",
     "output_type": "stream",
     "text": [
      "CCP\t R2_score Test \t R2_Score Train\n",
      "0.0\t 0.6389404016541947 \t 1.0\n",
      "CCP\t R2_score Test \t R2_Score Train\n",
      "1.5410742279539556e-06\t 0.6389404016541947 \t 0.9999999999999898\n",
      "CCP\t R2_score Test \t R2_Score Train\n",
      "8.692522463597661e-06\t 0.6389404016541947 \t 0.9999999999999319\n",
      "CCP\t R2_score Test \t R2_Score Train\n",
      "8.69253221323578e-06\t 0.6389404016541947 \t 0.9999999999998742\n",
      "CCP\t R2_score Test \t R2_Score Train\n",
      "2.783530968374174e-05\t 0.6389404016541947 \t 0.9999999999996892\n",
      "CCP\t R2_score Test \t R2_Score Train\n",
      "4.661696937941721e-05\t 0.6389404016541947 \t 0.9999999999993795\n",
      "CCP\t R2_score Test \t R2_Score Train\n",
      "7.021440200485355e-05\t 0.6389404016541947 \t 0.9999999999989129\n",
      "CCP\t R2_score Test \t R2_Score Train\n",
      "8.100180042645749e-05\t 0.6389404016541947 \t 0.9999999999983745\n",
      "CCP\t R2_score Test \t R2_Score Train\n",
      "8.668444548377903e-05\t 0.6389404016541947 \t 0.9999999999977984\n",
      "CCP\t R2_score Test \t R2_Score Train\n",
      "0.00013908015885357843\t 0.6389403914250222 \t 0.9999999999968742\n",
      "CCP\t R2_score Test \t R2_Score Train\n",
      "0.000139080374274154\t 0.6389403914250222 \t 0.9999999999959499\n",
      "CCP\t R2_score Test \t R2_Score Train\n",
      "0.00013908037798830188\t 0.6389403914250222 \t 0.9999999999950256\n",
      "CCP\t R2_score Test \t R2_Score Train\n",
      "0.00015410568271712554\t 0.6389403961510476 \t 0.9999999999940015\n",
      "CCP\t R2_score Test \t R2_Score Train\n",
      "0.00016865240370971733\t 0.6389404036637937 \t 0.9999999999928807\n",
      "CCP\t R2_score Test \t R2_Score Train\n",
      "0.00018646787194644704\t 0.6389404036637937 \t 0.9999999999916415\n",
      "CCP\t R2_score Test \t R2_Score Train\n",
      "0.00021731302305565755\t 0.6389404036637937 \t 0.9999999999901973\n",
      "CCP\t R2_score Test \t R2_Score Train\n",
      "0.00021731308248202323\t 0.6389404036637937 \t 0.9999999999887531\n",
      "CCP\t R2_score Test \t R2_Score Train\n",
      "0.00021731315676498032\t 0.6389404192664692 \t 0.9999999999873089\n",
      "CCP\t R2_score Test \t R2_Score Train\n",
      "0.0002505180397157298\t 0.6389404192664692 \t 0.9999999999856442\n",
      "CCP\t R2_score Test \t R2_Score Train\n",
      "0.0003240072462756042\t 0.6389404192664692 \t 0.9999999999834909\n",
      "CCP\t R2_score Test \t R2_Score Train\n",
      "0.0003352761751454944\t 0.6389404192664692 \t 0.9999999999812628\n",
      "CCP\t R2_score Test \t R2_Score Train\n",
      "0.0004195527220934124\t 0.6389404192664692 \t 0.9999999999784746\n",
      "CCP\t R2_score Test \t R2_Score Train\n",
      "0.00042593366014265113\t 0.6389404192664692 \t 0.999999999975644\n",
      "CCP\t R2_score Test \t R2_Score Train\n",
      "0.00042593366060691957\t 0.6389404183960361 \t 0.9999999999728134\n",
      "CCP\t R2_score Test \t R2_Score Train\n",
      "0.0004719486710794664\t 0.6389404183960361 \t 0.999999999969677\n",
      "CCP\t R2_score Test \t R2_Score Train\n",
      "0.0005710578838350291\t 0.6389405783567063 \t 0.999999999965882\n",
      "CCP\t R2_score Test \t R2_Score Train\n",
      "0.0005710579729745776\t 0.6389405716367611 \t 0.999999999962087\n",
      "CCP\t R2_score Test \t R2_Score Train\n",
      "0.000616422708583615\t 0.6389405716367611 \t 0.9999999999579905\n",
      "CCP\t R2_score Test \t R2_Score Train\n",
      "0.0006164227304042337\t 0.6389405716367611 \t 0.999999999953894\n",
      "CCP\t R2_score Test \t R2_Score Train\n",
      "0.000629264872719869\t 0.6389405661227314 \t 0.9999999999497121\n",
      "CCP\t R2_score Test \t R2_Score Train\n",
      "0.0007458715044994534\t 0.6389405661227314 \t 0.9999999999447553\n",
      "CCP\t R2_score Test \t R2_Score Train\n",
      "0.0008330375089840304\t 0.6389405661227314 \t 0.9999999999392193\n",
      "CCP\t R2_score Test \t R2_Score Train\n",
      "0.0009439935831581488\t 0.6389405661227314 \t 0.9999999999329459\n",
      "CCP\t R2_score Test \t R2_Score Train\n",
      "0.0009439936240137752\t 0.6389405661227314 \t 0.9999999999266724\n",
      "CCP\t R2_score Test \t R2_Score Train\n",
      "0.0010517953281269474\t 0.6389405661227314 \t 0.9999999999196827\n",
      "CCP\t R2_score Test \t R2_Score Train\n",
      "0.0011654242442350681\t 0.6389405661227314 \t 0.9999999999119377\n",
      "CCP\t R2_score Test \t R2_Score Train\n",
      "0.0014690365057330901\t 0.6389405707881018 \t 0.999999999902175\n",
      "CCP\t R2_score Test \t R2_Score Train\n",
      "0.001469036509447238\t 0.6389405707881018 \t 0.9999999998924124\n",
      "CCP\t R2_score Test \t R2_Score Train\n",
      "0.001469036554945549\t 0.6389405707881018 \t 0.9999999998826498\n",
      "CCP\t R2_score Test \t R2_Score Train\n",
      "0.001678210886980844\t 0.6389405748722159 \t 0.999999999871497\n",
      "CCP\t R2_score Test \t R2_Score Train\n",
      "0.0016983730485430684\t 0.6389392710321316 \t 0.9999999998602103\n",
      "CCP\t R2_score Test \t R2_Score Train\n",
      "0.0017037346201427912\t 0.6389392910906908 \t 0.999999999848888\n",
      "CCP\t R2_score Test \t R2_Score Train\n",
      "0.0017037346368564564\t 0.6389392910906908 \t 0.9999999998375656\n",
      "CCP\t R2_score Test \t R2_Score Train\n",
      "0.0017037346414991413\t 0.6389393260130599 \t 0.9999999998262432\n",
      "CCP\t R2_score Test \t R2_Score Train\n",
      "0.001955817668055252\t 0.6389393260130599 \t 0.9999999998132456\n",
      "CCP\t R2_score Test \t R2_Score Train\n",
      "0.002512139344359502\t 0.6389393260130599 \t 0.999999999796551\n",
      "CCP\t R2_score Test \t R2_Score Train\n",
      "0.003017485587451893\t 0.6389393260130599 \t 0.9999999997764979\n",
      "CCP\t R2_score Test \t R2_Score Train\n",
      "0.0031553861013764993\t 0.6389393260130599 \t 0.9999999997555284\n",
      "CCP\t R2_score Test \t R2_Score Train\n",
      "0.00420718143136052\t 0.6389392620764051 \t 0.9999999997275691\n",
      "CCP\t R2_score Test \t R2_Score Train\n",
      "0.004207181475930294\t 0.6389392620764051 \t 0.9999999996996098\n",
      "CCP\t R2_score Test \t R2_Score Train\n",
      "0.004661696910085611\t 0.6389401804356147 \t 0.9999999996686301\n",
      "CCP\t R2_score Test \t R2_Score Train\n",
      "0.00500689363729205\t 0.6389401804356147 \t 0.9999999996353562\n",
      "CCP\t R2_score Test \t R2_Score Train\n",
      "0.005034632691119985\t 0.6389401804356147 \t 0.999999999601898\n",
      "CCP\t R2_score Test \t R2_Score Train\n",
      "0.005640653256375198\t 0.6389401804356147 \t 0.9999999995644124\n",
      "CCP\t R2_score Test \t R2_Score Train\n",
      "0.005663383830104725\t 0.6389401804356147 \t 0.9999999995267758\n",
      "CCP\t R2_score Test \t R2_Score Train\n",
      "0.005687366483931765\t 0.6389401801343287 \t 0.9999999994889798\n",
      "CCP\t R2_score Test \t R2_Score Train\n",
      "0.006510965058121343\t 0.6389402267233748 \t 0.9999999994457104\n",
      "CCP\t R2_score Test \t R2_Score Train\n",
      "0.006814938562282418\t 0.6389402431659141 \t 0.999999999400421\n",
      "CCP\t R2_score Test \t R2_Score Train\n",
      "0.007551178465210131\t 0.6389402429678277 \t 0.9999999993502388\n",
      "CCP\t R2_score Test \t R2_Score Train\n",
      "0.008139099662051957\t 0.6389401889881892 \t 0.9999999992961495\n",
      "CCP\t R2_score Test \t R2_Score Train\n",
      "0.008353515237510383\t 0.6389401889881892 \t 0.9999999992406353\n",
      "CCP\t R2_score Test \t R2_Score Train\n",
      "0.008901144243249389\t 0.6389401889881892 \t 0.9999999991814817\n",
      "CCP\t R2_score Test \t R2_Score Train\n",
      "0.009120776948490266\t 0.6389401889881892 \t 0.9999999991208687\n",
      "CCP\t R2_score Test \t R2_Score Train\n",
      "0.01042534576604516\t 0.6389377149944202 \t 0.9999999990515859\n",
      "CCP\t R2_score Test \t R2_Score Train\n",
      "0.010949722458705945\t 0.6389377149944202 \t 0.9999999989788183\n",
      "CCP\t R2_score Test \t R2_Score Train\n",
      "0.01126551068762126\t 0.6389377149944202 \t 0.9999999989039521\n",
      "CCP\t R2_score Test \t R2_Score Train\n",
      "0.013221328511670722\t 0.6389377149944202 \t 0.9999999988160883\n",
      "CCP\t R2_score Test \t R2_Score Train\n",
      "0.014649671503339902\t 0.6389377129385021 \t 0.9999999987187322\n",
      "CCP\t R2_score Test \t R2_Score Train\n",
      "0.015776601427811333\t 0.6389377129385021 \t 0.9999999986138871\n",
      "CCP\t R2_score Test \t R2_Score Train\n",
      "0.01839338007530686\t 0.6389377129385021 \t 0.9999999984916519\n",
      "CCP\t R2_score Test \t R2_Score Train\n",
      "0.018477656727179454\t 0.6389376850733228 \t 0.9999999983688567\n",
      "CCP\t R2_score Test \t R2_Score Train\n",
      "0.01864678764777074\t 0.6389376850733228 \t 0.9999999982449373\n",
      "CCP\t R2_score Test \t R2_Score Train\n",
      "0.023699414100152544\t 0.6389376850733228 \t 0.9999999980874402\n",
      "CCP\t R2_score Test \t R2_Score Train\n",
      "0.032922857867206556\t 0.6389376848723721 \t 0.9999999978686478\n",
      "CCP\t R2_score Test \t R2_Score Train\n",
      "0.03514775835490179\t 0.6389375224609711 \t 0.9999999976350695\n",
      "CCP\t R2_score Test \t R2_Score Train\n",
      "0.03525408287602268\t 0.6389375215913364 \t 0.9999999974007846\n",
      "CCP\t R2_score Test \t R2_Score Train\n",
      "0.04077554576596615\t 0.6389375215913364 \t 0.9999999971298063\n",
      "CCP\t R2_score Test \t R2_Score Train\n",
      "0.04708317093781436\t 0.6389375215913364 \t 0.9999999968169099\n",
      "CCP\t R2_score Test \t R2_Score Train\n",
      "0.05710578713554922\t 0.6389375215913364 \t 0.999999996437407\n",
      "CCP\t R2_score Test \t R2_Score Train\n",
      "0.062077657855371185\t 0.6389375215913364 \t 0.9999999960248631\n",
      "CCP\t R2_score Test \t R2_Score Train\n",
      "0.06774309235936028\t 0.6389375215913364 \t 0.999999995574669\n",
      "CCP\t R2_score Test \t R2_Score Train\n",
      "0.06919899080710064\t 0.6389375215913364 \t 0.9999999951147994\n",
      "CCP\t R2_score Test \t R2_Score Train\n",
      "0.07137279494935768\t 0.6389375215913364 \t 0.9999999946404837\n",
      "CCP\t R2_score Test \t R2_Score Train\n",
      "0.07197619931529076\t 0.6389402299927434 \t 0.9999999941621579\n"
     ]
    },
    {
     "name": "stdout",
     "output_type": "stream",
     "text": [
      "CCP\t R2_score Test \t R2_Score Train\n",
      "0.08232199396949227\t 0.6389402299927434 \t 0.9999999936150781\n",
      "CCP\t R2_score Test \t R2_Score Train\n",
      "0.09747531184237655\t 0.6389402309934312 \t 0.9999999929672951\n",
      "CCP\t R2_score Test \t R2_Score Train\n",
      "0.10620666572365423\t 0.6389402309934312 \t 0.9999999922614871\n",
      "CCP\t R2_score Test \t R2_Score Train\n",
      "0.10896825092145476\t 0.6389402309934312 \t 0.9999999915373265\n",
      "CCP\t R2_score Test \t R2_Score Train\n",
      "0.11875639789007002\t 0.6389402309934312 \t 0.9999999907481179\n",
      "CCP\t R2_score Test \t R2_Score Train\n",
      "0.12166337063303914\t 0.6389404782301387 \t 0.9999999899395905\n",
      "CCP\t R2_score Test \t R2_Score Train\n",
      "0.13365624409729795\t 0.6389409709755125 \t 0.9999999890513632\n",
      "CCP\t R2_score Test \t R2_Score Train\n",
      "0.1384640524478616\t 0.6389409703958857 \t 0.9999999881311852\n",
      "CCP\t R2_score Test \t R2_Score Train\n",
      "0.15736814678190714\t 0.6389411220824233 \t 0.9999999870853777\n",
      "CCP\t R2_score Test \t R2_Score Train\n",
      "0.16614318646096873\t 0.6389411220824233 \t 0.999999985981255\n",
      "CCP\t R2_score Test \t R2_Score Train\n",
      "0.18196512599766315\t 0.6389411220824233 \t 0.9999999847719857\n",
      "CCP\t R2_score Test \t R2_Score Train\n",
      "0.19666533835616673\t 0.6389411230737395 \t 0.9999999834650245\n",
      "CCP\t R2_score Test \t R2_Score Train\n",
      "0.239531182488083\t 0.6389406906511144 \t 0.9999999818731937\n",
      "CCP\t R2_score Test \t R2_Score Train\n",
      "0.30089676374214835\t 0.6389406906511144 \t 0.9999999798735512\n",
      "CCP\t R2_score Test \t R2_Score Train\n",
      "0.3860059898134956\t 0.6389405814224092 \t 0.9999999773083058\n",
      "CCP\t R2_score Test \t R2_Score Train\n",
      "0.4095065392273388\t 0.6389405761091409 \t 0.999999974586885\n",
      "CCP\t R2_score Test \t R2_Score Train\n",
      "0.4170881182044477\t 0.6389401956289946 \t 0.99999997181508\n",
      "CCP\t R2_score Test \t R2_Score Train\n",
      "0.44709855888562566\t 0.6389521471424264 \t 0.9999999688438374\n",
      "CCP\t R2_score Test \t R2_Score Train\n",
      "0.48730695093141596\t 0.6389521471424264 \t 0.9999999656053854\n",
      "CCP\t R2_score Test \t R2_Score Train\n",
      "0.523481290575752\t 0.6389521471424264 \t 0.9999999621265329\n",
      "CCP\t R2_score Test \t R2_Score Train\n",
      "0.5423812673669512\t 0.6389522713880729 \t 0.9999999585220785\n",
      "CCP\t R2_score Test \t R2_Score Train\n",
      "0.6490766896921045\t 0.6389532439963888 \t 0.9999999542085679\n",
      "CCP\t R2_score Test \t R2_Score Train\n",
      "0.6853626168677481\t 0.6389369800941922 \t 0.9999999496539151\n",
      "CCP\t R2_score Test \t R2_Score Train\n",
      "0.6906667458151624\t 0.6389366022708975 \t 0.9999999450640132\n",
      "CCP\t R2_score Test \t R2_Score Train\n",
      "0.7069735710368913\t 0.6389366022708975 \t 0.9999999403657426\n",
      "CCP\t R2_score Test \t R2_Score Train\n",
      "0.7242427615974384\t 0.6389366022708975 \t 0.9999999355527076\n",
      "CCP\t R2_score Test \t R2_Score Train\n",
      "0.7720799662417929\t 0.6389366022708975 \t 0.9999999304217652\n",
      "CCP\t R2_score Test \t R2_Score Train\n",
      "0.9978804251370378\t 0.6389371086098312 \t 0.999999923790241\n",
      "CCP\t R2_score Test \t R2_Score Train\n",
      "1.0057668649180165\t 0.6389371086098312 \t 0.9999999171063066\n",
      "CCP\t R2_score Test \t R2_Score Train\n",
      "1.1398824329041353\t 0.6389377706815484 \t 0.9999999095310924\n",
      "CCP\t R2_score Test \t R2_Score Train\n",
      "1.2024776971233213\t 0.6389377706815484 \t 0.9999999015398945\n",
      "CCP\t R2_score Test \t R2_Score Train\n",
      "1.2245520033454849\t 0.6389393110220603 \t 0.9999998934019994\n",
      "CCP\t R2_score Test \t R2_Score Train\n",
      "1.2767974567466813\t 0.638939289816611 \t 0.9999998849169014\n",
      "CCP\t R2_score Test \t R2_Score Train\n",
      "1.5854191969660438\t 0.638917815303647 \t 0.9999998743808236\n",
      "CCP\t R2_score Test \t R2_Score Train\n",
      "1.8099058078210113\t 0.6389183101199104 \t 0.9999998623528953\n",
      "CCP\t R2_score Test \t R2_Score Train\n",
      "1.8759276538433605\t 0.6389183101199104 \t 0.9999998498862116\n",
      "CCP\t R2_score Test \t R2_Score Train\n",
      "2.106116650676204\t 0.6389183101199104 \t 0.9999998358897816\n",
      "CCP\t R2_score Test \t R2_Score Train\n",
      "2.2160473847687467\t 0.6389178048231162 \t 0.9999998211627947\n",
      "CCP\t R2_score Test \t R2_Score Train\n",
      "2.437227862187896\t 0.6389176405436761 \t 0.9999998049659288\n",
      "CCP\t R2_score Test \t R2_Score Train\n",
      "2.4715173610394165\t 0.6389040755335227 \t 0.9999997885411881\n",
      "CCP\t R2_score Test \t R2_Score Train\n",
      "2.593371948652556\t 0.6389040755335227 \t 0.9999997713066493\n",
      "CCP\t R2_score Test \t R2_Score Train\n",
      "3.1681626144934034\t 0.6389054957390992 \t 0.9999997502522759\n",
      "CCP\t R2_score Test \t R2_Score Train\n",
      "3.7581206511999534\t 0.638906166429015 \t 0.9999997252772715\n",
      "CCP\t R2_score Test \t R2_Score Train\n",
      "3.7828234014206252\t 0.638906166429015 \t 0.9999997001381022\n",
      "CCP\t R2_score Test \t R2_Score Train\n",
      "4.038649341995908\t 0.638906166429015 \t 0.9999996732988135\n",
      "CCP\t R2_score Test \t R2_Score Train\n",
      "4.175443766837343\t 0.6389108524669418 \t 0.9999996455504423\n",
      "CCP\t R2_score Test \t R2_Score Train\n",
      "4.2758905029487035\t 0.6389140592264962 \t 0.9999996171345413\n",
      "CCP\t R2_score Test \t R2_Score Train\n",
      "4.361090360304057\t 0.6389140592264962 \t 0.9999995881524353\n",
      "CCP\t R2_score Test \t R2_Score Train\n",
      "4.437563644449114\t 0.6389140592264962 \t 0.9999995586621176\n",
      "CCP\t R2_score Test \t R2_Score Train\n",
      "4.46556907722862\t 0.6389140111351215 \t 0.9999995289856869\n",
      "CCP\t R2_score Test \t R2_Score Train\n",
      "4.516869897032128\t 0.6389140111351215 \t 0.9999994989683307\n",
      "CCP\t R2_score Test \t R2_Score Train\n",
      "4.648410925576658\t 0.6389140111351215 \t 0.9999994680768043\n",
      "CCP\t R2_score Test \t R2_Score Train\n",
      "4.677114251128223\t 0.6389140111351215 \t 0.9999994369945268\n",
      "CCP\t R2_score Test \t R2_Score Train\n",
      "4.731911856773962\t 0.6389140111351215 \t 0.9999994055480856\n",
      "CCP\t R2_score Test \t R2_Score Train\n",
      "4.7941270232319475\t 0.6389136474467629 \t 0.9999993736881868\n",
      "CCP\t R2_score Test \t R2_Score Train\n",
      "4.798024072314605\t 0.638913588602693 \t 0.9999993418023897\n",
      "CCP\t R2_score Test \t R2_Score Train\n",
      "4.9253256865345305\t 0.6389145103357556 \t 0.9999993090705958\n",
      "CCP\t R2_score Test \t R2_Score Train\n",
      "4.959051917833559\t 0.6389144730829696 \t 0.9999992761146704\n",
      "CCP\t R2_score Test \t R2_Score Train\n",
      "4.99752524925966\t 0.6389148484054757 \t 0.9999992429030663\n",
      "CCP\t R2_score Test \t R2_Score Train\n",
      "5.190356671119319\t 0.6389148484054757 \t 0.9999992084099797\n",
      "CCP\t R2_score Test \t R2_Score Train\n",
      "5.2644726739210235\t 0.6389141536510605 \t 0.9999991734243471\n",
      "CCP\t R2_score Test \t R2_Score Train\n",
      "5.359759877420078\t 0.6389138499340853 \t 0.9999991378054729\n",
      "CCP\t R2_score Test \t R2_Score Train\n",
      "5.390580330389447\t 0.6389138499340853 \t 0.999999101981778\n",
      "CCP\t R2_score Test \t R2_Score Train\n",
      "5.585202162177232\t 0.638915173248808 \t 0.9999990648647022\n",
      "CCP\t R2_score Test \t R2_Score Train\n",
      "5.608543783764272\t 0.6389142066840305 \t 0.9999990275925071\n",
      "CCP\t R2_score Test \t R2_Score Train\n",
      "5.660848610660253\t 0.6389142066840305 \t 0.9999989899727146\n",
      "CCP\t R2_score Test \t R2_Score Train\n",
      "5.734715259428752\t 0.6389142066840305 \t 0.9999989518620331\n",
      "CCP\t R2_score Test \t R2_Score Train\n",
      "5.7535245089177955\t 0.6389152702381713 \t 0.9999989136263527\n",
      "CCP\t R2_score Test \t R2_Score Train\n",
      "5.754714207539886\t 0.6389152702381713 \t 0.999998875382766\n",
      "CCP\t R2_score Test \t R2_Score Train\n",
      "5.762460981065765\t 0.6389156961114204 \t 0.9999988370876973\n",
      "CCP\t R2_score Test \t R2_Score Train\n",
      "5.861971244394244\t 0.6389168061386518 \t 0.9999987981313222\n",
      "CCP\t R2_score Test \t R2_Score Train\n",
      "5.869644520520153\t 0.6389184251911463 \t 0.9999987591239534\n",
      "CCP\t R2_score Test \t R2_Score Train\n",
      "5.974759121656656\t 0.6389184251911463 \t 0.9999987194180341\n",
      "CCP\t R2_score Test \t R2_Score Train\n",
      "6.03509983938867\t 0.6389184251911463 \t 0.9999986793111137\n",
      "CCP\t R2_score Test \t R2_Score Train\n",
      "6.140801163756123\t 0.6389184251911463 \t 0.9999986385017438\n",
      "CCP\t R2_score Test \t R2_Score Train\n",
      "6.1968543355391255\t 0.6389177044317694 \t 0.9999985973198662\n",
      "CCP\t R2_score Test \t R2_Score Train\n",
      "6.24626874376937\t 0.6389176319652256 \t 0.9999985558095997\n",
      "CCP\t R2_score Test \t R2_Score Train\n",
      "6.520982866822663\t 0.6389176319652256 \t 0.9999985124736903\n",
      "CCP\t R2_score Test \t R2_Score Train\n",
      "6.779033461750921\t 0.6389647941718867 \t 0.9999984674228772\n",
      "CCP\t R2_score Test \t R2_Score Train\n",
      "6.839340983781359\t 0.6389637021848019 \t 0.999998421971284\n",
      "CCP\t R2_score Test \t R2_Score Train\n",
      "7.000365366830545\t 0.6389637021848019 \t 0.9999983754495854\n",
      "CCP\t R2_score Test \t R2_Score Train\n",
      "7.109038073246405\t 0.6389637021848019 \t 0.9999983282056903\n",
      "CCP\t R2_score Test \t R2_Score Train\n",
      "7.343262658184273\t 0.6389636259086265 \t 0.99999827940523\n",
      "CCP\t R2_score Test \t R2_Score Train\n",
      "7.3544170508998725\t 0.6389636259086265 \t 0.9999982305306421\n",
      "CCP\t R2_score Test \t R2_Score Train\n",
      "7.4772025484848\t 0.6389636259086265 \t 0.9999981808400695\n",
      "CCP\t R2_score Test \t R2_Score Train\n",
      "7.804893308554071\t 0.6389636259086265 \t 0.9999981289717919\n",
      "CCP\t R2_score Test \t R2_Score Train\n",
      "7.8641252285380245\t 0.6389639177277997 \t 0.9999980767098821\n"
     ]
    },
    {
     "name": "stdout",
     "output_type": "stream",
     "text": [
      "CCP\t R2_score Test \t R2_Score Train\n",
      "7.934062517087457\t 0.6389650363475564 \t 0.9999980239831964\n",
      "CCP\t R2_score Test \t R2_Score Train\n",
      "7.990883485671292\t 0.6389650363475564 \t 0.9999979708789005\n",
      "CCP\t R2_score Test \t R2_Score Train\n",
      "8.208872206590826\t 0.6389672164556819 \t 0.9999979163259367\n",
      "CCP\t R2_score Test \t R2_Score Train\n",
      "8.316075414255753\t 0.6389672164556819 \t 0.9999978610605422\n",
      "CCP\t R2_score Test \t R2_Score Train\n",
      "8.38794506725262\t 0.6389718428718768 \t 0.99999780531753\n",
      "CCP\t R2_score Test \t R2_Score Train\n",
      "8.51475069555245\t 0.6389718428718768 \t 0.999997748731817\n",
      "CCP\t R2_score Test \t R2_Score Train\n",
      "8.539039202891514\t 0.6389718428718768 \t 0.9999976919846921\n",
      "CCP\t R2_score Test \t R2_Score Train\n",
      "8.593539190434981\t 0.6389718428718768 \t 0.9999976348753815\n",
      "CCP\t R2_score Test \t R2_Score Train\n",
      "8.652264213841315\t 0.6389718428718768 \t 0.9999975773758073\n",
      "CCP\t R2_score Test \t R2_Score Train\n",
      "8.724446365938467\t 0.6389718428718768 \t 0.9999975193965387\n",
      "CCP\t R2_score Test \t R2_Score Train\n",
      "9.313881904382635\t 0.6389741698049449 \t 0.9999974575001114\n",
      "CCP\t R2_score Test \t R2_Score Train\n",
      "9.407864539240553\t 0.6389741698049449 \t 0.999997394979112\n",
      "CCP\t R2_score Test \t R2_Score Train\n",
      "9.431843270688361\t 0.638972898321724 \t 0.9999973322987594\n",
      "CCP\t R2_score Test \t R2_Score Train\n",
      "9.704291389040103\t 0.6389731982446574 \t 0.9999972678078228\n",
      "CCP\t R2_score Test \t R2_Score Train\n",
      "9.853159940128371\t 0.6389731982446574 \t 0.9999972023275638\n",
      "CCP\t R2_score Test \t R2_Score Train\n",
      "10.074877786022032\t 0.6389731982446574 \t 0.9999971353738546\n",
      "CCP\t R2_score Test \t R2_Score Train\n",
      "10.561205449290313\t 0.6389731982446574 \t 0.9999970651882013\n",
      "CCP\t R2_score Test \t R2_Score Train\n",
      "10.851552290312672\t 0.6389755580179294 \t 0.9999969930730161\n",
      "CCP\t R2_score Test \t R2_Score Train\n",
      "11.43553201508442\t 0.6389755580179294 \t 0.9999969170769294\n",
      "CCP\t R2_score Test \t R2_Score Train\n",
      "11.7940373302754\t 0.6389758314425731 \t 0.9999968386983562\n",
      "CCP\t R2_score Test \t R2_Score Train\n",
      "11.99887490272522\t 0.6389758314425731 \t 0.9999967589585123\n",
      "CCP\t R2_score Test \t R2_Score Train\n",
      "12.192003632560446\t 0.6389758314425731 \t 0.9999966779352102\n",
      "CCP\t R2_score Test \t R2_Score Train\n",
      "12.383848265125412\t 0.6389707452652014 \t 0.9999965956369834\n",
      "CCP\t R2_score Test \t R2_Score Train\n",
      "12.465908889527826\t 0.6389193404831981 \t 0.9999964299498441\n",
      "CCP\t R2_score Test \t R2_Score Train\n",
      "12.510137496112428\t 0.6389588365855012 \t 0.9999963468123484\n",
      "CCP\t R2_score Test \t R2_Score Train\n",
      "12.613473890369697\t 0.638958454830802 \t 0.9999962629881193\n",
      "CCP\t R2_score Test \t R2_Score Train\n",
      "12.823313174492577\t 0.638958454830802 \t 0.9999960925506409\n",
      "CCP\t R2_score Test \t R2_Score Train\n",
      "13.004823509153862\t 0.6389593148178185 \t 0.9999960061256549\n",
      "CCP\t R2_score Test \t R2_Score Train\n",
      "13.19918352072819\t 0.638992749041127 \t 0.9999959184090279\n",
      "CCP\t R2_score Test \t R2_Score Train\n",
      "13.25339652106151\t 0.638992749041127 \t 0.9999958303321225\n",
      "CCP\t R2_score Test \t R2_Score Train\n",
      "13.330466701026081\t 0.6389224958529146 \t 0.9999957417430387\n",
      "CCP\t R2_score Test \t R2_Score Train\n",
      "13.781661109696119\t 0.6389224958529146 \t 0.9999956501554929\n",
      "CCP\t R2_score Test \t R2_Score Train\n",
      "13.798573688222309\t 0.6389227678512281 \t 0.9999955584555527\n",
      "CCP\t R2_score Test \t R2_Score Train\n",
      "13.830790373391787\t 0.6388849857063966 \t 0.9999954665415128\n",
      "CCP\t R2_score Test \t R2_Score Train\n",
      "13.871715043620359\t 0.6388849857063966 \t 0.9999953743555037\n",
      "CCP\t R2_score Test \t R2_Score Train\n",
      "13.872768959790053\t 0.6388849272617452 \t 0.9999952821624906\n",
      "CCP\t R2_score Test \t R2_Score Train\n",
      "13.936232035675534\t 0.6388845088639445 \t 0.9999950969329626\n",
      "CCP\t R2_score Test \t R2_Score Train\n",
      "14.597150189569916\t 0.6388849882575204 \t 0.9999949999259943\n",
      "CCP\t R2_score Test \t R2_Score Train\n",
      "14.679122512801694\t 0.6388849882575204 \t 0.9999949023742699\n",
      "CCP\t R2_score Test \t R2_Score Train\n",
      "14.72860801440932\t 0.6388849882575204 \t 0.9999948044936842\n",
      "CCP\t R2_score Test \t R2_Score Train\n",
      "14.831121865232825\t 0.6388849882575204 \t 0.9999947059318314\n",
      "CCP\t R2_score Test \t R2_Score Train\n",
      "14.937408218236412\t 0.6388888243988924 \t 0.9999946066636408\n",
      "CCP\t R2_score Test \t R2_Score Train\n",
      "15.25049695977059\t 0.6388888243988924 \t 0.9999945053147846\n",
      "CCP\t R2_score Test \t R2_Score Train\n",
      "16.536387124244616\t 0.6388835661244303 \t 0.9999943954204039\n",
      "CCP\t R2_score Test \t R2_Score Train\n",
      "16.559983692368714\t 0.6388871317919117 \t 0.9999942853692094\n",
      "CCP\t R2_score Test \t R2_Score Train\n",
      "17.05673286008276\t 0.6388871317919117 \t 0.9999941720168138\n",
      "CCP\t R2_score Test \t R2_Score Train\n",
      "17.37130920419234\t 0.6388871317919117 \t 0.9999940565738664\n",
      "CCP\t R2_score Test \t R2_Score Train\n",
      "17.591600004475886\t 0.6388871317919117 \t 0.9999939396669523\n",
      "CCP\t R2_score Test \t R2_Score Train\n",
      "17.785377702416696\t 0.6388871317919117 \t 0.9999938214722671\n",
      "CCP\t R2_score Test \t R2_Score Train\n",
      "17.873781041038832\t 0.6388871317919117 \t 0.9999937026900878\n",
      "CCP\t R2_score Test \t R2_Score Train\n",
      "18.05311980888114\t 0.6388871317919117 \t 0.999993582716093\n",
      "CCP\t R2_score Test \t R2_Score Train\n",
      "18.809829811544223\t 0.6388871317919117 \t 0.9999934577132986\n",
      "CCP\t R2_score Test \t R2_Score Train\n",
      "19.23217153417435\t 0.6388901036728497 \t 0.9999933299037858\n",
      "CCP\t R2_score Test \t R2_Score Train\n",
      "19.495064482315705\t 0.6388880088338471 \t 0.9999932003471889\n",
      "CCP\t R2_score Test \t R2_Score Train\n",
      "19.547170174745464\t 0.6388880088338471 \t 0.999993070444318\n",
      "CCP\t R2_score Test \t R2_Score Train\n",
      "19.677738644204965\t 0.6388880088338471 \t 0.9999929396737398\n",
      "CCP\t R2_score Test \t R2_Score Train\n",
      "19.730087727308273\t 0.6388880088338471 \t 0.9999928085552702\n",
      "CCP\t R2_score Test \t R2_Score Train\n",
      "19.834994514078154\t 0.6388880088338471 \t 0.9999926767396309\n",
      "CCP\t R2_score Test \t R2_Score Train\n",
      "19.88755221775216\t 0.6388855080934149 \t 0.9999925445747135\n",
      "CCP\t R2_score Test \t R2_Score Train\n",
      "19.90507481656486\t 0.6388855080934149 \t 0.9999924122933479\n",
      "CCP\t R2_score Test \t R2_Score Train\n",
      "20.00875277242299\t 0.6388855080934149 \t 0.999992279322979\n",
      "CCP\t R2_score Test \t R2_Score Train\n",
      "20.01925071527214\t 0.6388855080934149 \t 0.9999921462828448\n",
      "CCP\t R2_score Test \t R2_Score Train\n",
      "20.421559223921918\t 0.6388855080934149 \t 0.9999918748554055\n",
      "CCP\t R2_score Test \t R2_Score Train\n",
      "20.50586165527229\t 0.6388865746198464 \t 0.9999917385814449\n",
      "CCP\t R2_score Test \t R2_Score Train\n",
      "20.59246728617553\t 0.6388865746198464 \t 0.9999916017319368\n",
      "CCP\t R2_score Test \t R2_Score Train\n",
      "20.92632678475376\t 0.6388865746198464 \t 0.9999914626637288\n",
      "CCP\t R2_score Test \t R2_Score Train\n",
      "21.743377668075524\t 0.6388845769465203 \t 0.9999913181657192\n",
      "CCP\t R2_score Test \t R2_Score Train\n",
      "21.848271113687595\t 0.6388845769465203 \t 0.9999911729706287\n",
      "CCP\t R2_score Test \t R2_Score Train\n",
      "22.181234813580364\t 0.6388845769465203 \t 0.9999910255627912\n",
      "CCP\t R2_score Test \t R2_Score Train\n",
      "22.35660957469366\t 0.6388845769465203 \t 0.9999908769894815\n",
      "CCP\t R2_score Test \t R2_Score Train\n",
      "22.399456668567144\t 0.6389382002828272 \t 0.9999907281314266\n",
      "CCP\t R2_score Test \t R2_Score Train\n",
      "23.01615460069919\t 0.6389382002828272 \t 0.9999905751750379\n",
      "CCP\t R2_score Test \t R2_Score Train\n",
      "23.063865575175228\t 0.6389394739948837 \t 0.9999904219015805\n",
      "CCP\t R2_score Test \t R2_Score Train\n",
      "23.173709041605203\t 0.6389390645532921 \t 0.9999902678981464\n",
      "CCP\t R2_score Test \t R2_Score Train\n",
      "23.32731103564307\t 0.6389405053314812 \t 0.9999901128739332\n",
      "CCP\t R2_score Test \t R2_Score Train\n",
      "23.76042077833729\t 0.6389405053314812 \t 0.9999899549714416\n",
      "CCP\t R2_score Test \t R2_Score Train\n",
      "24.772518243265534\t 0.6389385558155323 \t 0.9999897903429449\n",
      "CCP\t R2_score Test \t R2_Score Train\n",
      "24.788341530298784\t 0.6389510735181596 \t 0.9999894608756407\n",
      "CCP\t R2_score Test \t R2_Score Train\n",
      "24.868096301289402\t 0.6389637569763278 \t 0.9999892956119695\n",
      "CCP\t R2_score Test \t R2_Score Train\n",
      "24.968074059290284\t 0.6389636504069108 \t 0.9999891296838851\n",
      "CCP\t R2_score Test \t R2_Score Train\n",
      "25.26920407068575\t 0.6389594423013383 \t 0.999988961754608\n",
      "CCP\t R2_score Test \t R2_Score Train\n",
      "25.375546636745142\t 0.6390467565238482 \t 0.9999887931186198\n",
      "CCP\t R2_score Test \t R2_Score Train\n",
      "27.222605286552344\t 0.6390467565238482 \t 0.9999886122077999\n",
      "CCP\t R2_score Test \t R2_Score Train\n",
      "27.454331654388593\t 0.6390475706450442 \t 0.999988429757017\n",
      "CCP\t R2_score Test \t R2_Score Train\n",
      "27.46467378761263\t 0.6390492600261837 \t 0.9999882472375042\n",
      "CCP\t R2_score Test \t R2_Score Train\n",
      "27.52833576134944\t 0.6390497576592042 \t 0.9999880642949189\n",
      "CCP\t R2_score Test \t R2_Score Train\n",
      "27.89482267723156\t 0.6390497576592042 \t 0.9999878789168044\n",
      "CCP\t R2_score Test \t R2_Score Train\n",
      "28.42100650682518\t 0.6390492985698999 \t 0.9999876900418774\n",
      "CCP\t R2_score Test \t R2_Score Train\n",
      "28.655921577723884\t 0.639049970113992 \t 0.9999874996057964\n",
      "CCP\t R2_score Test \t R2_Score Train\n",
      "29.06178053972847\t 0.639049970113992 \t 0.9999871133392735\n",
      "CCP\t R2_score Test \t R2_Score Train\n",
      "30.214569793830243\t 0.639049970113992 \t 0.9999869125450241\n",
      "CCP\t R2_score Test \t R2_Score Train\n",
      "31.90672694370968\t 0.639049970113992 \t 0.9999867005053582\n",
      "CCP\t R2_score Test \t R2_Score Train\n",
      "32.050439043466376\t 0.639049970113992 \t 0.9999864875106378\n",
      "CCP\t R2_score Test \t R2_Score Train\n",
      "32.09904611677512\t 0.639049158616996 \t 0.9999862741928937\n",
      "CCP\t R2_score Test \t R2_Score Train\n",
      "32.24494885622058\t 0.6390491106422851 \t 0.9999860599055368\n",
      "CCP\t R2_score Test \t R2_Score Train\n",
      "32.448135452890064\t 0.6390491106422851 \t 0.9999858442678811\n",
      "CCP\t R2_score Test \t R2_Score Train\n",
      "32.65018685033558\t 0.6390498868808879 \t 0.9999856272874705\n",
      "CCP\t R2_score Test \t R2_Score Train\n",
      "33.13988215692995\t 0.6390498868808879 \t 0.999985407052736\n",
      "CCP\t R2_score Test \t R2_Score Train\n",
      "33.216814374727605\t 0.6390529090584902 \t 0.9999851863067398\n",
      "CCP\t R2_score Test \t R2_Score Train\n",
      "33.2659669736157\t 0.6390331924555271 \t 0.9999849652340946\n",
      "CCP\t R2_score Test \t R2_Score Train\n",
      "34.7827347477495\t 0.6390331924555271 \t 0.9999847340816024\n",
      "CCP\t R2_score Test \t R2_Score Train\n",
      "35.082439032636756\t 0.639033280469073 \t 0.9999845009373922\n",
      "CCP\t R2_score Test \t R2_Score Train\n",
      "35.09569154170194\t 0.6390336871069648 \t 0.9999842677051111\n"
     ]
    },
    {
     "name": "stdout",
     "output_type": "stream",
     "text": [
      "CCP\t R2_score Test \t R2_Score Train\n",
      "35.55885279242503\t 0.6390364301121336 \t 0.9999840313948408\n",
      "CCP\t R2_score Test \t R2_Score Train\n",
      "36.76500397987463\t 0.6390364301121336 \t 0.9999837870689602\n",
      "CCP\t R2_score Test \t R2_Score Train\n",
      "37.40788332596496\t 0.6390339305910739 \t 0.9999832898725478\n",
      "CCP\t R2_score Test \t R2_Score Train\n",
      "38.46021117137862\t 0.6390348744359535 \t 0.9999830342809811\n",
      "CCP\t R2_score Test \t R2_Score Train\n",
      "39.053026591331985\t 0.6390348744359535 \t 0.9999827747497944\n",
      "CCP\t R2_score Test \t R2_Score Train\n",
      "39.20590344198413\t 0.639026472898798 \t 0.9999825142026476\n",
      "CCP\t R2_score Test \t R2_Score Train\n",
      "39.65062069113284\t 0.6390031558871682 \t 0.9999822507000834\n",
      "CCP\t R2_score Test \t R2_Score Train\n",
      "39.670078688536066\t 0.6390007535411517 \t 0.9999817234363346\n",
      "CCP\t R2_score Test \t R2_Score Train\n",
      "40.7352495051081\t 0.6390007535411517 \t 0.9999814527257502\n",
      "CCP\t R2_score Test \t R2_Score Train\n",
      "41.3883089432985\t 0.6390007535411517 \t 0.9999811776751875\n",
      "CCP\t R2_score Test \t R2_Score Train\n",
      "41.625419443460224\t 0.6390007535411517 \t 0.9999806244225742\n",
      "CCP\t R2_score Test \t R2_Score Train\n",
      "41.72351808597892\t 0.6389924554396951 \t 0.9999800698661102\n",
      "CCP\t R2_score Test \t R2_Score Train\n",
      "41.906577630508934\t 0.6389924554396951 \t 0.999979791371336\n",
      "CCP\t R2_score Test \t R2_Score Train\n",
      "42.08353281462405\t 0.6389983942998687 \t 0.9999795117005864\n",
      "CCP\t R2_score Test \t R2_Score Train\n",
      "42.320814438687\t 0.6389981793707973 \t 0.9999792304529558\n",
      "CCP\t R2_score Test \t R2_Score Train\n",
      "42.6816612180185\t 0.6389981793707973 \t 0.9999789468072782\n",
      "CCP\t R2_score Test \t R2_Score Train\n",
      "44.60374254799436\t 0.6389981793707973 \t 0.9999786503881976\n",
      "CCP\t R2_score Test \t R2_Score Train\n",
      "45.28315638224125\t 0.6390144206237456 \t 0.9999783494539974\n",
      "CCP\t R2_score Test \t R2_Score Train\n",
      "45.42980271375786\t 0.6390269104971069 \t 0.999978047545243\n",
      "CCP\t R2_score Test \t R2_Score Train\n",
      "45.575028094855824\t 0.639033131312704 \t 0.9999774417975117\n",
      "CCP\t R2_score Test \t R2_Score Train\n",
      "45.73744043752418\t 0.639033131312704 \t 0.9999771378443169\n",
      "CCP\t R2_score Test \t R2_Score Train\n",
      "46.121982469872485\t 0.6390448648246991 \t 0.9999768313356057\n",
      "CCP\t R2_score Test \t R2_Score Train\n",
      "46.54608642722918\t 0.6390422290225433 \t 0.999976522008465\n",
      "CCP\t R2_score Test \t R2_Score Train\n",
      "46.60994917668629\t 0.6390377081194742 \t 0.9999759025053697\n",
      "CCP\t R2_score Test \t R2_Score Train\n",
      "46.61013991116051\t 0.6390458990339649 \t 0.9999755927525545\n",
      "CCP\t R2_score Test \t R2_Score Train\n",
      "47.094643481254046\t 0.6390458990339649 \t 0.9999749668072805\n",
      "CCP\t R2_score Test \t R2_Score Train\n",
      "47.322101912672\t 0.6390458990339649 \t 0.9999746523230435\n",
      "CCP\t R2_score Test \t R2_Score Train\n",
      "48.83948997507691\t 0.6390458990339649 \t 0.9999743277548371\n",
      "CCP\t R2_score Test \t R2_Score Train\n",
      "49.61360206525561\t 0.6390458990339649 \t 0.9999739980421836\n",
      "CCP\t R2_score Test \t R2_Score Train\n",
      "50.0259734080772\t 0.639035789970074 \t 0.9999736655890709\n",
      "CCP\t R2_score Test \t R2_Score Train\n",
      "52.320072953998746\t 0.6390355403909088 \t 0.9999733178902671\n",
      "CCP\t R2_score Test \t R2_Score Train\n",
      "52.96853252728715\t 0.639126266799791 \t 0.999972965882054\n",
      "CCP\t R2_score Test \t R2_Score Train\n",
      "53.12125601091331\t 0.6391223288913943 \t 0.9999726128589\n",
      "CCP\t R2_score Test \t R2_Score Train\n",
      "53.375821269959474\t 0.6391223288913943 \t 0.9999722581440047\n",
      "CCP\t R2_score Test \t R2_Score Train\n",
      "53.479685869435606\t 0.6391207966520996 \t 0.9999719027388657\n",
      "CCP\t R2_score Test \t R2_Score Train\n",
      "54.47478849900996\t 0.6391202222189588 \t 0.9999715407206626\n",
      "CCP\t R2_score Test \t R2_Score Train\n",
      "54.47488176332395\t 0.6391202222189588 \t 0.9999711787018398\n",
      "CCP\t R2_score Test \t R2_Score Train\n",
      "54.54397244753589\t 0.6391251841745313 \t 0.9999708162238672\n",
      "CCP\t R2_score Test \t R2_Score Train\n",
      "54.634699735660476\t 0.6391236523988015 \t 0.9999704531429564\n",
      "CCP\t R2_score Test \t R2_Score Train\n",
      "55.50277256751701\t 0.6391293370268762 \t 0.9999697154433879\n",
      "CCP\t R2_score Test \t R2_Score Train\n",
      "55.54853990798816\t 0.6391298989099929 \t 0.9999693462894516\n",
      "CCP\t R2_score Test \t R2_Score Train\n",
      "56.692000588236866\t 0.6391260630378827 \t 0.9999689695365216\n",
      "CCP\t R2_score Test \t R2_Score Train\n",
      "57.24494083672911\t 0.6391260630378827 \t 0.9999685891089662\n",
      "CCP\t R2_score Test \t R2_Score Train\n",
      "58.475651115071344\t 0.6391260630378827 \t 0.9999682005025903\n",
      "CCP\t R2_score Test \t R2_Score Train\n",
      "59.39098328393573\t 0.6389891500369512 \t 0.9999678058132737\n",
      "CCP\t R2_score Test \t R2_Score Train\n",
      "60.47504579696041\t 0.6389891500369512 \t 0.9999666001325536\n",
      "CCP\t R2_score Test \t R2_Score Train\n",
      "61.486074676133626\t 0.6389891500369512 \t 0.9999661915200765\n",
      "CCP\t R2_score Test \t R2_Score Train\n",
      "61.53775305601797\t 0.6389891500369512 \t 0.999965782564165\n",
      "CCP\t R2_score Test \t R2_Score Train\n",
      "62.12861600874622\t 0.6389938119698739 \t 0.9999649567990526\n",
      "CCP\t R2_score Test \t R2_Score Train\n",
      "63.437477288654414\t 0.6389938119698739 \t 0.9999645352183147\n",
      "CCP\t R2_score Test \t R2_Score Train\n",
      "63.6336499160399\t 0.638996532865001 \t 0.9999641123338899\n",
      "CCP\t R2_score Test \t R2_Score Train\n",
      "65.25837115564589\t 0.6390818793602955 \t 0.9999628112888244\n",
      "CCP\t R2_score Test \t R2_Score Train\n",
      "65.68068772898884\t 0.6391590169499108 \t 0.9999623748005845\n",
      "CCP\t R2_score Test \t R2_Score Train\n",
      "65.92224721863107\t 0.6391590169499108 \t 0.9999619367070345\n",
      "CCP\t R2_score Test \t R2_Score Train\n",
      "67.92709652656097\t 0.6391589219082188 \t 0.9999614852900378\n",
      "CCP\t R2_score Test \t R2_Score Train\n",
      "68.28676045689721\t 0.6391589219082188 \t 0.9999610314828548\n",
      "CCP\t R2_score Test \t R2_Score Train\n",
      "68.78205959317631\t 0.6391589219082188 \t 0.9999605743841069\n",
      "CCP\t R2_score Test \t R2_Score Train\n",
      "69.5808521899286\t 0.6391589219082188 \t 0.9999596495696829\n",
      "CCP\t R2_score Test \t R2_Score Train\n",
      "70.13148984985271\t 0.6391629874721942 \t 0.9999591835031476\n",
      "CCP\t R2_score Test \t R2_Score Train\n",
      "70.78139169993676\t 0.6391629874721942 \t 0.9999587131176181\n",
      "CCP\t R2_score Test \t R2_Score Train\n",
      "70.88410369831982\t 0.6391629874721942 \t 0.9999582420495047\n",
      "CCP\t R2_score Test \t R2_Score Train\n",
      "71.09590705501238\t 0.6391629874721942 \t 0.9999577695738289\n",
      "CCP\t R2_score Test \t R2_Score Train\n",
      "71.10643114885714\t 0.6391523387062337 \t 0.9999572970282139\n",
      "CCP\t R2_score Test \t R2_Score Train\n",
      "71.47322651569787\t 0.6391523387062337 \t 0.99995682204502\n",
      "CCP\t R2_score Test \t R2_Score Train\n",
      "71.69314338388489\t 0.6391527208587897 \t 0.9999563456003443\n",
      "CCP\t R2_score Test \t R2_Score Train\n",
      "71.80945992683723\t 0.6391527208587897 \t 0.9999558683826743\n",
      "CCP\t R2_score Test \t R2_Score Train\n",
      "73.20741830443767\t 0.6391527208587897 \t 0.9999553818747179\n",
      "CCP\t R2_score Test \t R2_Score Train\n",
      "73.22600715294627\t 0.6391546210894844 \t 0.9999548952432273\n",
      "CCP\t R2_score Test \t R2_Score Train\n",
      "73.26319192919661\t 0.6391562184267342 \t 0.9999544083646212\n",
      "CCP\t R2_score Test \t R2_Score Train\n",
      "73.55864950981463\t 0.6391555004098596 \t 0.9999534306804173\n",
      "CCP\t R2_score Test \t R2_Score Train\n",
      "74.39650803565578\t 0.6393138688661117 \t 0.9999529362702343\n",
      "CCP\t R2_score Test \t R2_Score Train\n",
      "74.51516523110428\t 0.6393138688661117 \t 0.9999524410715018\n",
      "CCP\t R2_score Test \t R2_Score Train\n",
      "74.85920499160827\t 0.6393082711301659 \t 0.9999519435864153\n",
      "CCP\t R2_score Test \t R2_Score Train\n",
      "74.95433661043607\t 0.6393082711301659 \t 0.9999514454691211\n",
      "CCP\t R2_score Test \t R2_Score Train\n",
      "75.12434256356116\t 0.6393233088844379 \t 0.9999509462220335\n",
      "CCP\t R2_score Test \t R2_Score Train\n",
      "75.28518672151526\t 0.6393233088844379 \t 0.9999504459060385\n",
      "CCP\t R2_score Test \t R2_Score Train\n",
      "76.04376483008132\t 0.639327775193054 \t 0.9999499405488291\n",
      "CCP\t R2_score Test \t R2_Score Train\n",
      "76.15969846569418\t 0.6393268213941576 \t 0.99994943442117\n",
      "CCP\t R2_score Test \t R2_Score Train\n",
      "77.0413232139671\t 0.6393268213941576 \t 0.9999489224345767\n",
      "CCP\t R2_score Test \t R2_Score Train\n",
      "77.49121341130075\t 0.6393268213941576 \t 0.9999484074581884\n",
      "CCP\t R2_score Test \t R2_Score Train\n",
      "78.10475728352547\t 0.6393268213941576 \t 0.9999478884044268\n",
      "CCP\t R2_score Test \t R2_Score Train\n",
      "78.1084866947267\t 0.6393277686759622 \t 0.999947369325881\n",
      "CCP\t R2_score Test \t R2_Score Train\n",
      "78.44896750654264\t 0.6393277686759622 \t 0.9999468479846325\n",
      "CCP\t R2_score Test \t R2_Score Train\n",
      "78.84366723052703\t 0.6393304471546364 \t 0.9999463240203637\n",
      "CCP\t R2_score Test \t R2_Score Train\n",
      "79.60126767713476\t 0.6393314270031315 \t 0.9999457950213775\n",
      "CCP\t R2_score Test \t R2_Score Train\n",
      "79.76221336693256\t 0.6393314270031315 \t 0.9999452649528091\n",
      "CCP\t R2_score Test \t R2_Score Train\n",
      "80.25853802437558\t 0.6393248635821562 \t 0.9999447315858605\n",
      "CCP\t R2_score Test \t R2_Score Train\n",
      "80.37351948235292\t 0.6392798132781233 \t 0.99994419745479\n",
      "CCP\t R2_score Test \t R2_Score Train\n",
      "81.2349015971421\t 0.6392865349445134 \t 0.9999431177438297\n",
      "CCP\t R2_score Test \t R2_Score Train\n",
      "81.81029038290573\t 0.6392838958506011 \t 0.9999420303852504\n",
      "CCP\t R2_score Test \t R2_Score Train\n",
      "82.08656322886631\t 0.6392900734415659 \t 0.9999414848699592\n",
      "CCP\t R2_score Test \t R2_Score Train\n",
      "82.63737881957283\t 0.6392909667902116 \t 0.9999409356941623\n",
      "CCP\t R2_score Test \t R2_Score Train\n",
      "82.74675385757226\t 0.6392897463065135 \t 0.9999403857915016\n",
      "CCP\t R2_score Test \t R2_Score Train\n",
      "84.78880575037786\t 0.6392897463065135 \t 0.9999398223181601\n",
      "CCP\t R2_score Test \t R2_Score Train\n",
      "84.96848150757944\t 0.639285798732055 \t 0.9999392576507637\n",
      "CCP\t R2_score Test \t R2_Score Train\n",
      "87.27119669816082\t 0.6392985577817891 \t 0.9999386776804201\n",
      "CCP\t R2_score Test \t R2_Score Train\n",
      "87.67253889637449\t 0.6392985577817891 \t 0.9999380950429128\n",
      "CCP\t R2_score Test \t R2_Score Train\n",
      "88.63116646780895\t 0.6392985577817891 \t 0.9999375060347403\n",
      "CCP\t R2_score Test \t R2_Score Train\n",
      "89.41959963559152\t 0.6392973788885528 \t 0.9999363175391566\n",
      "CCP\t R2_score Test \t R2_Score Train\n",
      "90.23404653947989\t 0.6392987183200762 \t 0.9999351182185797\n"
     ]
    },
    {
     "name": "stdout",
     "output_type": "stream",
     "text": [
      "CCP\t R2_score Test \t R2_Score Train\n",
      "90.89935708980997\t 0.63930808857497 \t 0.999933910055214\n",
      "CCP\t R2_score Test \t R2_Score Train\n",
      "92.1312213785508\t 0.6393078094068293 \t 0.9999332977870414\n",
      "CCP\t R2_score Test \t R2_Score Train\n",
      "92.6182237203908\t 0.6393078094068293 \t 0.9999326822824411\n",
      "CCP\t R2_score Test \t R2_Score Train\n",
      "93.16456879570278\t 0.6393108533148948 \t 0.9999320631470445\n",
      "CCP\t R2_score Test \t R2_Score Train\n",
      "94.36935338008024\t 0.6393108533148948 \t 0.9999314360051194\n",
      "CCP\t R2_score Test \t R2_Score Train\n",
      "95.40268945045479\t 0.6393108533148948 \t 0.9999308019960456\n",
      "CCP\t R2_score Test \t R2_Score Train\n",
      "97.31617767358865\t 0.6393095294003285 \t 0.9999295085453047\n",
      "CCP\t R2_score Test \t R2_Score Train\n",
      "98.41346328200427\t 0.6393087013972583 \t 0.9999288545278021\n",
      "CCP\t R2_score Test \t R2_Score Train\n",
      "98.54840249932954\t 0.6393096319179623 \t 0.999928199613546\n",
      "CCP\t R2_score Test \t R2_Score Train\n",
      "98.64645693021068\t 0.639382608479814 \t 0.9999275440476584\n",
      "CCP\t R2_score Test \t R2_Score Train\n",
      "99.6133736529771\t 0.6395218667608078 \t 0.9999268820560193\n",
      "CCP\t R2_score Test \t R2_Score Train\n",
      "100.59065927322935\t 0.6395218667608078 \t 0.999926213569721\n",
      "CCP\t R2_score Test \t R2_Score Train\n",
      "100.66401878661537\t 0.6395156289754022 \t 0.999925544595904\n",
      "CCP\t R2_score Test \t R2_Score Train\n",
      "102.72307078563885\t 0.6395288598837867 \t 0.9999241792809566\n",
      "CCP\t R2_score Test \t R2_Score Train\n",
      "103.71249446635352\t 0.6395230350243191 \t 0.999923490048159\n",
      "CCP\t R2_score Test \t R2_Score Train\n",
      "103.83696949156604\t 0.6395177825130338 \t 0.9999227999881487\n",
      "CCP\t R2_score Test \t R2_Score Train\n",
      "104.29477576092295\t 0.6395177825130338 \t 0.9999221068857367\n",
      "CCP\t R2_score Test \t R2_Score Train\n",
      "106.60192761400108\t 0.6395174582472112 \t 0.9999206900160492\n",
      "CCP\t R2_score Test \t R2_Score Train\n",
      "107.9157697081209\t 0.6395174582472112 \t 0.9999199728499233\n",
      "CCP\t R2_score Test \t R2_Score Train\n",
      "108.9874502858992\t 0.639511735087039 \t 0.9999185242737288\n",
      "CCP\t R2_score Test \t R2_Score Train\n",
      "109.73548651768168\t 0.639511735087039 \t 0.9999177950144745\n",
      "CCP\t R2_score Test \t R2_Score Train\n",
      "110.273558155965\t 0.639511735087039 \t 0.9999170621794059\n",
      "CCP\t R2_score Test \t R2_Score Train\n",
      "111.25867806545877\t 0.639511735087039 \t 0.9999163227976146\n",
      "CCP\t R2_score Test \t R2_Score Train\n",
      "111.65485916048753\t 0.6395174616738504 \t 0.9999140967536452\n",
      "CCP\t R2_score Test \t R2_Score Train\n",
      "111.76507066179843\t 0.6395174616738504 \t 0.9999126112594868\n",
      "CCP\t R2_score Test \t R2_Score Train\n",
      "112.07596196337107\t 0.63951846100287 \t 0.9999111216332038\n",
      "CCP\t R2_score Test \t R2_Score Train\n",
      "112.64895382884552\t 0.639515315110986 \t 0.9999103730121819\n",
      "CCP\t R2_score Test \t R2_Score Train\n",
      "112.91295104826675\t 0.639515315110986 \t 0.9999096226367372\n",
      "CCP\t R2_score Test \t R2_Score Train\n",
      "112.94265343604103\t 0.639515315110986 \t 0.9999081214910671\n",
      "CCP\t R2_score Test \t R2_Score Train\n",
      "113.73993422712012\t 0.639515315110986 \t 0.9999066097485624\n",
      "CCP\t R2_score Test \t R2_Score Train\n",
      "115.8547717415294\t 0.6394287423316747 \t 0.9999050698972868\n",
      "CCP\t R2_score Test \t R2_Score Train\n",
      "116.04017635255843\t 0.6394157098819429 \t 0.9999035275817576\n",
      "CCP\t R2_score Test \t R2_Score Train\n",
      "116.04556382541818\t 0.6394120070707447 \t 0.9999019851946224\n",
      "CCP\t R2_score Test \t R2_Score Train\n",
      "118.69744154414235\t 0.6394123561503803 \t 0.9999011963777096\n",
      "CCP\t R2_score Test \t R2_Score Train\n",
      "121.13498184888633\t 0.6394104073030745 \t 0.9999003913618543\n",
      "CCP\t R2_score Test \t R2_Score Train\n",
      "121.9186626051145\t 0.6394104073030745 \t 0.9998995811379623\n",
      "CCP\t R2_score Test \t R2_Score Train\n",
      "122.48989066823292\t 0.6394196892473949 \t 0.9998987671179113\n",
      "CCP\t R2_score Test \t R2_Score Train\n",
      "124.47352881573237\t 0.6394196892473949 \t 0.9998979399153747\n",
      "CCP\t R2_score Test \t R2_Score Train\n",
      "124.54179941791418\t 0.6394244089264437 \t 0.9998971122591382\n",
      "CCP\t R2_score Test \t R2_Score Train\n",
      "124.9721241672398\t 0.6394244089264437 \t 0.9998962817431313\n",
      "CCP\t R2_score Test \t R2_Score Train\n",
      "125.64766318642961\t 0.639421246055917 \t 0.9998954467377554\n",
      "CCP\t R2_score Test \t R2_Score Train\n",
      "125.67249206412706\t 0.639421246055917 \t 0.9998946115673766\n",
      "CCP\t R2_score Test \t R2_Score Train\n",
      "129.55522636878888\t 0.6394226349215377 \t 0.9998920286468255\n",
      "CCP\t R2_score Test \t R2_Score Train\n",
      "130.00046777214152\t 0.6394226349215377 \t 0.9998911647144076\n",
      "CCP\t R2_score Test \t R2_Score Train\n",
      "130.37749682019205\t 0.6396454088978836 \t 0.999889431838396\n",
      "CCP\t R2_score Test \t R2_Score Train\n",
      "130.9425931761741\t 0.6396454146847973 \t 0.9998885616449801\n",
      "CCP\t R2_score Test \t R2_Score Train\n",
      "132.57771400199573\t 0.6396451011096621 \t 0.9998876805851887\n",
      "CCP\t R2_score Test \t R2_Score Train\n",
      "134.68209176486062\t 0.6396477760666166 \t 0.9998867855405233\n",
      "CCP\t R2_score Test \t R2_Score Train\n",
      "134.98844087088213\t 0.6396477760666166 \t 0.9998858884599813\n",
      "CCP\t R2_score Test \t R2_Score Train\n",
      "135.39268894271106\t 0.6396477760666166 \t 0.9998849886929642\n",
      "CCP\t R2_score Test \t R2_Score Train\n",
      "136.09551769775055\t 0.6396455868199413 \t 0.9998840842552211\n",
      "CCP\t R2_score Test \t R2_Score Train\n",
      "136.4603831782967\t 0.6397342101215224 \t 0.9998831773927245\n",
      "CCP\t R2_score Test \t R2_Score Train\n",
      "136.80424129432538\t 0.6397368105263949 \t 0.9998822682450809\n",
      "CCP\t R2_score Test \t R2_Score Train\n",
      "138.03072249758637\t 0.6397266488025906 \t 0.9998804336483619\n",
      "CCP\t R2_score Test \t R2_Score Train\n",
      "138.66360840678274\t 0.6397266488025906 \t 0.9998795121440894\n",
      "CCP\t R2_score Test \t R2_Score Train\n",
      "139.62166653934528\t 0.6397266488025906 \t 0.9998785842729361\n",
      "CCP\t R2_score Test \t R2_Score Train\n",
      "140.26356698104655\t 0.6397200467918783 \t 0.9998776521359628\n",
      "CCP\t R2_score Test \t R2_Score Train\n",
      "142.2736737376259\t 0.6397200467918783 \t 0.9998757611452449\n",
      "CCP\t R2_score Test \t R2_Score Train\n",
      "143.20494475895364\t 0.6397200467918783 \t 0.9998748094610218\n",
      "CCP\t R2_score Test \t R2_Score Train\n",
      "145.25949322061606\t 0.6397194017901373 \t 0.9998738441230708\n",
      "CCP\t R2_score Test \t R2_Score Train\n",
      "150.63952049514947\t 0.6397194017901373 \t 0.999871841940042\n",
      "CCP\t R2_score Test \t R2_Score Train\n",
      "151.31097456289905\t 0.63969783610147 \t 0.9998708363863057\n",
      "CCP\t R2_score Test \t R2_Score Train\n",
      "151.40086702009538\t 0.63969783610147 \t 0.9998678179329259\n",
      "CCP\t R2_score Test \t R2_Score Train\n",
      "151.76717688198224\t 0.6396818373581659 \t 0.9998668093474469\n",
      "CCP\t R2_score Test \t R2_Score Train\n",
      "152.3592046412007\t 0.6396786958825438 \t 0.9998657968275821\n",
      "CCP\t R2_score Test \t R2_Score Train\n",
      "153.693547127254\t 0.6396786958825438 \t 0.9998647754401976\n",
      "CCP\t R2_score Test \t R2_Score Train\n",
      "153.71165404072846\t 0.6396786958825438 \t 0.9998637539324815\n",
      "CCP\t R2_score Test \t R2_Score Train\n",
      "153.88497819278317\t 0.6396786958825438 \t 0.9998627312729207\n",
      "CCP\t R2_score Test \t R2_Score Train\n",
      "154.02793790700872\t 0.6396675733298429 \t 0.9998606840536901\n",
      "CCP\t R2_score Test \t R2_Score Train\n",
      "155.16485094312478\t 0.6396711436454291 \t 0.999859652888594\n",
      "CCP\t R2_score Test \t R2_Score Train\n",
      "156.10026151218182\t 0.6396705923056485 \t 0.9998586155071241\n",
      "CCP\t R2_score Test \t R2_Score Train\n",
      "156.14406347352033\t 0.6396768265539526 \t 0.9998575778345634\n",
      "CCP\t R2_score Test \t R2_Score Train\n",
      "156.55243328644534\t 0.6396750005997168 \t 0.9998565374481362\n",
      "CCP\t R2_score Test \t R2_Score Train\n",
      "157.3621227731139\t 0.6396750005997168 \t 0.9998554916808283\n",
      "CCP\t R2_score Test \t R2_Score Train\n",
      "158.42257117931865\t 0.6396750005997168 \t 0.9998544388661939\n",
      "CCP\t R2_score Test \t R2_Score Train\n",
      "158.9363758733379\t 0.6398147603890698 \t 0.9998533826370137\n",
      "CCP\t R2_score Test \t R2_Score Train\n",
      "160.4434443277828\t 0.6398147603890698 \t 0.9998523163924444\n",
      "CCP\t R2_score Test \t R2_Score Train\n",
      "167.32196952969278\t 0.6398116406033629 \t 0.9998512044358786\n",
      "CCP\t R2_score Test \t R2_Score Train\n",
      "169.81209465023036\t 0.6398222092395133 \t 0.9998500759309124\n",
      "CCP\t R2_score Test \t R2_Score Train\n",
      "171.85216081463327\t 0.6398277611698713 \t 0.9998489338684617\n",
      "CCP\t R2_score Test \t R2_Score Train\n",
      "171.9877389441221\t 0.6398277611698713 \t 0.9998477909050117\n",
      "CCP\t R2_score Test \t R2_Score Train\n",
      "172.31372489637565\t 0.6396269789711344 \t 0.9998466457751863\n",
      "CCP\t R2_score Test \t R2_Score Train\n",
      "172.70911876109994\t 0.6396269789711344 \t 0.9998454980177274\n",
      "CCP\t R2_score Test \t R2_Score Train\n",
      "173.30101637814587\t 0.6396327589420917 \t 0.9998443463267477\n",
      "CCP\t R2_score Test \t R2_Score Train\n",
      "173.3790075196908\t 0.639631783898204 \t 0.9998431941174692\n",
      "CCP\t R2_score Test \t R2_Score Train\n",
      "174.96371632546987\t 0.639631783898204 \t 0.999842031376834\n",
      "CCP\t R2_score Test \t R2_Score Train\n",
      "176.66113161568273\t 0.6396178343304169 \t 0.9998408573558387\n",
      "CCP\t R2_score Test \t R2_Score Train\n",
      "176.9480608857997\t 0.639607406060164 \t 0.9998396814280233\n",
      "CCP\t R2_score Test \t R2_Score Train\n",
      "180.0310498404271\t 0.6396097569830312 \t 0.9998384850118655\n",
      "CCP\t R2_score Test \t R2_Score Train\n",
      "181.7049334897694\t 0.6396097569830312 \t 0.9998372774717296\n",
      "CCP\t R2_score Test \t R2_Score Train\n",
      "182.12560949184962\t 0.6396097007620445 \t 0.999836067135945\n",
      "CCP\t R2_score Test \t R2_Score Train\n",
      "183.05932267617845\t 0.6396097007620445 \t 0.9998348505950667\n",
      "CCP\t R2_score Test \t R2_Score Train\n",
      "183.33785903894693\t 0.6396033583788955 \t 0.9998336322031444\n",
      "CCP\t R2_score Test \t R2_Score Train\n",
      "184.81450878254927\t 0.6396216410425334 \t 0.9998324039979836\n"
     ]
    },
    {
     "name": "stdout",
     "output_type": "stream",
     "text": [
      "CCP\t R2_score Test \t R2_Score Train\n",
      "185.46401405854084\t 0.6396216410425334 \t 0.999831171476464\n",
      "CCP\t R2_score Test \t R2_Score Train\n",
      "186.02441247447894\t 0.6396187220206693 \t 0.9998286989850461\n",
      "CCP\t R2_score Test \t R2_Score Train\n",
      "191.9484386684026\t 0.6396263047144278 \t 0.9998274233705691\n",
      "CCP\t R2_score Test \t R2_Score Train\n",
      "196.45074221439447\t 0.6396275023211422 \t 0.9998261178355382\n",
      "CCP\t R2_score Test \t R2_Score Train\n",
      "198.79046198296342\t 0.6396300667615522 \t 0.9998247967516422\n",
      "CCP\t R2_score Test \t R2_Score Train\n",
      "203.8634601375977\t 0.6396300667615522 \t 0.9998220871575147\n",
      "CCP\t R2_score Test \t R2_Score Train\n",
      "206.6399731404396\t 0.6396300667615522 \t 0.9998207139088282\n",
      "CCP\t R2_score Test \t R2_Score Train\n",
      "208.91120433920284\t 0.6396300667615522 \t 0.9998193255664247\n",
      "CCP\t R2_score Test \t R2_Score Train\n",
      "210.16430411292455\t 0.6396300667615522 \t 0.9998179288964089\n",
      "CCP\t R2_score Test \t R2_Score Train\n",
      "213.3275762992212\t 0.6396300667615522 \t 0.9998165112045194\n",
      "CCP\t R2_score Test \t R2_Score Train\n",
      "213.39338546379253\t 0.639616556950904 \t 0.999815093075288\n",
      "CCP\t R2_score Test \t R2_Score Train\n",
      "214.06349630698105\t 0.6396104381559139 \t 0.9998136704927612\n",
      "CCP\t R2_score Test \t R2_Score Train\n",
      "216.18678054950595\t 0.6396104381559139 \t 0.9998122337997153\n",
      "CCP\t R2_score Test \t R2_Score Train\n",
      "216.63244836913572\t 0.639602204643418 \t 0.9998107941449347\n",
      "CCP\t R2_score Test \t R2_Score Train\n",
      "219.4656726500597\t 0.6396078916530799 \t 0.9998093356616504\n",
      "CCP\t R2_score Test \t R2_Score Train\n",
      "221.62341244936226\t 0.6396078916530799 \t 0.9998078628388688\n",
      "CCP\t R2_score Test \t R2_Score Train\n",
      "223.88884698306438\t 0.6396120662083206 \t 0.9998063749608925\n",
      "CCP\t R2_score Test \t R2_Score Train\n",
      "228.08415045467572\t 0.6396149291993605 \t 0.9998048592025653\n",
      "CCP\t R2_score Test \t R2_Score Train\n",
      "234.74946505797735\t 0.6396149291993605 \t 0.9998032991491562\n",
      "CCP\t R2_score Test \t R2_Score Train\n",
      "239.64754426957722\t 0.6396149291993605 \t 0.9998017065450227\n",
      "CCP\t R2_score Test \t R2_Score Train\n",
      "245.14200317847764\t 0.6396149291993605 \t 0.9998000774268576\n",
      "CCP\t R2_score Test \t R2_Score Train\n",
      "245.85555462724164\t 0.6396149291993605 \t 0.9997984435667078\n",
      "CCP\t R2_score Test \t R2_Score Train\n",
      "248.51411340148712\t 0.6395993233754368 \t 0.9997967920388131\n",
      "CCP\t R2_score Test \t R2_Score Train\n",
      "253.4053896820676\t 0.6395993233754368 \t 0.9997951080054035\n",
      "CCP\t R2_score Test \t R2_Score Train\n",
      "253.60819993357535\t 0.6395894355860656 \t 0.999793422624196\n",
      "CCP\t R2_score Test \t R2_Score Train\n",
      "254.9716809573226\t 0.6395807511777014 \t 0.9997917281818253\n",
      "CCP\t R2_score Test \t R2_Score Train\n",
      "256.83738475357546\t 0.6395747714401132 \t 0.999788314499604\n",
      "CCP\t R2_score Test \t R2_Score Train\n",
      "259.8436252648013\t 0.6395747714401132 \t 0.9997865876801911\n",
      "CCP\t R2_score Test \t R2_Score Train\n",
      "268.1251477031473\t 0.6395677052260091 \t 0.9997848058250094\n",
      "CCP\t R2_score Test \t R2_Score Train\n",
      "269.468552155786\t 0.6395589109934703 \t 0.9997812242591615\n",
      "CCP\t R2_score Test \t R2_Score Train\n",
      "274.80501099677565\t 0.6395601618950927 \t 0.999779398012213\n",
      "CCP\t R2_score Test \t R2_Score Train\n",
      "275.3301122665502\t 0.6395601618950927 \t 0.9997775682756461\n",
      "CCP\t R2_score Test \t R2_Score Train\n",
      "276.6642253237553\t 0.6395529971687143 \t 0.9997757296730841\n",
      "CCP\t R2_score Test \t R2_Score Train\n",
      "283.00820807434695\t 0.6393403250748708 \t 0.9997719681486888\n",
      "CCP\t R2_score Test \t R2_Score Train\n",
      "283.4423741512558\t 0.6393413537420116 \t 0.9997700845011928\n",
      "CCP\t R2_score Test \t R2_Score Train\n",
      "285.86006304915855\t 0.6393413537420116 \t 0.999768184786679\n",
      "CCP\t R2_score Test \t R2_Score Train\n",
      "287.338125436993\t 0.6393413537420116 \t 0.9997662752495389\n",
      "CCP\t R2_score Test \t R2_Score Train\n",
      "288.0485353828784\t 0.6393344229258837 \t 0.9997643609912913\n",
      "CCP\t R2_score Test \t R2_Score Train\n",
      "289.202588383439\t 0.6394105046476082 \t 0.9997624390636575\n",
      "CCP\t R2_score Test \t R2_Score Train\n",
      "294.89947079999723\t 0.639401472627129 \t 0.9997604792767645\n",
      "CCP\t R2_score Test \t R2_Score Train\n",
      "303.88836047773873\t 0.6394093321334224 \t 0.9997584597532158\n",
      "CCP\t R2_score Test \t R2_Score Train\n",
      "305.7007795894223\t 0.6394093321334224 \t 0.9997564281850363\n",
      "CCP\t R2_score Test \t R2_Score Train\n",
      "307.2581560062969\t 0.6394196112714452 \t 0.9997543862671405\n",
      "CCP\t R2_score Test \t R2_Score Train\n",
      "309.5300372074974\t 0.6394089060799522 \t 0.999752329251208\n",
      "CCP\t R2_score Test \t R2_Score Train\n",
      "310.77438095149586\t 0.6390512855178845 \t 0.9997502639658523\n",
      "CCP\t R2_score Test \t R2_Score Train\n",
      "311.115862379521\t 0.6390709809803992 \t 0.9997481964111441\n",
      "CCP\t R2_score Test \t R2_Score Train\n",
      "311.21410489082336\t 0.6390440675756861 \t 0.9997461282035546\n",
      "CCP\t R2_score Test \t R2_Score Train\n",
      "314.37046595757175\t 0.6390261338891274 \t 0.9997440390200201\n",
      "CCP\t R2_score Test \t R2_Score Train\n",
      "316.4124366948576\t 0.6390363453536027 \t 0.9997419362663443\n",
      "CCP\t R2_score Test \t R2_Score Train\n",
      "317.1123581294524\t 0.6390363453536027 \t 0.9997398288612636\n",
      "CCP\t R2_score Test \t R2_Score Train\n",
      "319.70114753633766\t 0.639060150801799 \t 0.999737704252098\n",
      "CCP\t R2_score Test \t R2_Score Train\n",
      "328.22933630810184\t 0.6390765693804514 \t 0.9997355229679151\n",
      "CCP\t R2_score Test \t R2_Score Train\n",
      "330.6880967544479\t 0.6393226654188287 \t 0.999733325343769\n",
      "CCP\t R2_score Test \t R2_Score Train\n",
      "333.82334248122135\t 0.6394902763773146 \t 0.9997311068840025\n",
      "CCP\t R2_score Test \t R2_Score Train\n",
      "335.464004331429\t 0.6394991912196987 \t 0.9997288775210369\n",
      "CCP\t R2_score Test \t R2_Score Train\n",
      "336.7784422696647\t 0.6394991912196987 \t 0.9997266394228294\n",
      "CCP\t R2_score Test \t R2_Score Train\n",
      "338.1881032693511\t 0.6394999076396216 \t 0.9997243919565646\n",
      "CCP\t R2_score Test \t R2_Score Train\n",
      "339.70353789085283\t 0.6394999076396216 \t 0.9997221344193121\n",
      "CCP\t R2_score Test \t R2_Score Train\n",
      "343.305962121324\t 0.6395583972669805 \t 0.9997198529417529\n",
      "CCP\t R2_score Test \t R2_Score Train\n",
      "346.67693892309995\t 0.6395583972669805 \t 0.9997175490619964\n",
      "CCP\t R2_score Test \t R2_Score Train\n",
      "353.1233553140826\t 0.639553477496392 \t 0.9997152023418701\n",
      "CCP\t R2_score Test \t R2_Score Train\n",
      "353.64737243761687\t 0.6395267742007116 \t 0.9997128521393304\n",
      "CCP\t R2_score Test \t R2_Score Train\n",
      "359.10562164513976\t 0.6395267742007116 \t 0.9997104656633947\n",
      "CCP\t R2_score Test \t R2_Score Train\n",
      "363.8725661620542\t 0.6395363528912184 \t 0.9997080475082046\n",
      "CCP\t R2_score Test \t R2_Score Train\n",
      "367.80391374482343\t 0.6395335110985851 \t 0.9997056032268115\n",
      "CCP\t R2_score Test \t R2_Score Train\n",
      "368.8935960599723\t 0.6395403846788752 \t 0.9997031517038144\n",
      "CCP\t R2_score Test \t R2_Score Train\n",
      "380.2152135176798\t 0.6395397397727165 \t 0.9997006249417625\n",
      "CCP\t R2_score Test \t R2_Score Train\n",
      "385.88764501394985\t 0.6395397397727165 \t 0.9996954960241228\n",
      "CCP\t R2_score Test \t R2_Score Train\n",
      "396.7502851640316\t 0.6395422175728129 \t 0.9996928593764322\n",
      "CCP\t R2_score Test \t R2_Score Train\n",
      "400.8010531412224\t 0.6395406910956599 \t 0.999690195808917\n",
      "CCP\t R2_score Test \t R2_Score Train\n",
      "404.5651456011851\t 0.6395534728752572 \t 0.9996875072267113\n",
      "CCP\t R2_score Test \t R2_Score Train\n",
      "405.9468836194148\t 0.6395534728752572 \t 0.9996848094620133\n",
      "CCP\t R2_score Test \t R2_Score Train\n",
      "408.84350337553116\t 0.6395534728752572 \t 0.9996820924475099\n",
      "CCP\t R2_score Test \t R2_Score Train\n",
      "412.82379207344854\t 0.6395274393277711 \t 0.99967934898156\n",
      "CCP\t R2_score Test \t R2_Score Train\n",
      "417.7140445781762\t 0.6395190654140017 \t 0.9996765730168987\n",
      "CCP\t R2_score Test \t R2_Score Train\n",
      "420.8955409531133\t 0.6395113144762401 \t 0.9996737759092531\n",
      "CCP\t R2_score Test \t R2_Score Train\n",
      "430.53126835715625\t 0.6395113144762401 \t 0.9996709147663203\n",
      "CCP\t R2_score Test \t R2_Score Train\n",
      "431.4411843418485\t 0.6395125212033667 \t 0.9996680475764408\n",
      "CCP\t R2_score Test \t R2_Score Train\n",
      "436.0163227522956\t 0.639501544619343 \t 0.9996651499819753\n",
      "CCP\t R2_score Test \t R2_Score Train\n",
      "448.62306308287265\t 0.639499237649698 \t 0.9996621686080294\n",
      "CCP\t R2_score Test \t R2_Score Train\n",
      "450.49031600299645\t 0.6394961883943462 \t 0.9996591748250486\n",
      "CCP\t R2_score Test \t R2_Score Train\n",
      "455.84600536060236\t 0.6394865961390918 \t 0.9996561454502447\n",
      "CCP\t R2_score Test \t R2_Score Train\n",
      "463.01277976751635\t 0.6397519920944756 \t 0.9996530684478526\n",
      "CCP\t R2_score Test \t R2_Score Train\n",
      "467.776377222173\t 0.6397474084092836 \t 0.9996468511290462\n",
      "CCP\t R2_score Test \t R2_Score Train\n",
      "482.4043170595421\t 0.6397443934766134 \t 0.9996436452580586\n",
      "CCP\t R2_score Test \t R2_Score Train\n",
      "487.84914428123443\t 0.6397421910105906 \t 0.9996404032028724\n",
      "CCP\t R2_score Test \t R2_Score Train\n",
      "492.50275517254886\t 0.6397377280380203 \t 0.9996371302216027\n",
      "CCP\t R2_score Test \t R2_Score Train\n",
      "492.8220995228555\t 0.6397138480820053 \t 0.9996338551180951\n",
      "CCP\t R2_score Test \t R2_Score Train\n",
      "493.05819035161767\t 0.6402275150431738 \t 0.9996305784456199\n",
      "CCP\t R2_score Test \t R2_Score Train\n",
      "503.82810663000294\t 0.6402275150431738 \t 0.9996272302004806\n",
      "CCP\t R2_score Test \t R2_Score Train\n",
      "507.363824099466\t 0.6402295699999115 \t 0.9996238584583417\n",
      "CCP\t R2_score Test \t R2_Score Train\n",
      "507.40287702716694\t 0.6402295699999115 \t 0.9996204864566722\n",
      "CCP\t R2_score Test \t R2_Score Train\n",
      "508.3857099035326\t 0.6402295699999115 \t 0.9996171079234788\n",
      "CCP\t R2_score Test \t R2_Score Train\n",
      "510.82131245818476\t 0.6401954105075269 \t 0.9996137132042203\n",
      "CCP\t R2_score Test \t R2_Score Train\n",
      "516.136177046349\t 0.6401898543812015 \t 0.9996102831644444\n",
      "CCP\t R2_score Test \t R2_Score Train\n",
      "520.5070325786013\t 0.6401925709901235 \t 0.9996068240776669\n",
      "CCP\t R2_score Test \t R2_Score Train\n",
      "525.84388312326\t 0.6401861428736633 \t 0.9996033295242616\n",
      "CCP\t R2_score Test \t R2_Score Train\n",
      "528.3466655689078\t 0.6401801507252666 \t 0.9995998183383401\n",
      "CCP\t R2_score Test \t R2_Score Train\n",
      "539.5471570570976\t 0.6401819737024308 \t 0.9995962327183195\n",
      "CCP\t R2_score Test \t R2_Score Train\n",
      "550.9122917912268\t 0.6401967555771146 \t 0.9995925715700452\n",
      "CCP\t R2_score Test \t R2_Score Train\n",
      "573.2624051788392\t 0.6401967555771146 \t 0.9995887618916323\n",
      "CCP\t R2_score Test \t R2_Score Train\n",
      "573.7353652833496\t 0.6398987771106139 \t 0.9995849490701108\n",
      "CCP\t R2_score Test \t R2_Score Train\n",
      "575.4784731409129\t 0.6399134655496448 \t 0.9995811246645743\n",
      "CCP\t R2_score Test \t R2_Score Train\n",
      "584.2438074303809\t 0.6399028475570034 \t 0.9995733593515135\n"
     ]
    },
    {
     "name": "stdout",
     "output_type": "stream",
     "text": [
      "CCP\t R2_score Test \t R2_Score Train\n",
      "598.687150360216\t 0.6399108547324764 \t 0.9995693807101579\n",
      "CCP\t R2_score Test \t R2_Score Train\n",
      "599.6169596963143\t 0.6399108547324764 \t 0.999565395889652\n",
      "CCP\t R2_score Test \t R2_Score Train\n",
      "603.3225892078307\t 0.6398832648772028 \t 0.9995613864429773\n",
      "CCP\t R2_score Test \t R2_Score Train\n",
      "604.714366091926\t 0.639872997714561 \t 0.9995573677470961\n",
      "CCP\t R2_score Test \t R2_Score Train\n",
      "610.9773445853652\t 0.639872997714561 \t 0.999553307429902\n",
      "CCP\t R2_score Test \t R2_Score Train\n",
      "626.4899855787947\t 0.639872997714561 \t 0.9995449806135874\n",
      "CCP\t R2_score Test \t R2_Score Train\n",
      "636.4209627298153\t 0.6398835739676643 \t 0.9995407512080283\n",
      "CCP\t R2_score Test \t R2_Score Train\n",
      "641.4389794654438\t 0.6398045465353255 \t 0.9995364884546867\n",
      "CCP\t R2_score Test \t R2_Score Train\n",
      "644.8841093143342\t 0.639820297307622 \t 0.9995279171580241\n",
      "CCP\t R2_score Test \t R2_Score Train\n",
      "654.191897936975\t 0.6397891174860768 \t 0.9995235696537591\n",
      "CCP\t R2_score Test \t R2_Score Train\n",
      "660.5258864260624\t 0.6397933115765 \t 0.9995191800562764\n",
      "CCP\t R2_score Test \t R2_Score Train\n",
      "665.0220511570526\t 0.6397933115765 \t 0.999514760579036\n",
      "CCP\t R2_score Test \t R2_Score Train\n",
      "672.738416686966\t 0.6397866702559747 \t 0.9995102898218391\n",
      "CCP\t R2_score Test \t R2_Score Train\n",
      "678.5784154592578\t 0.6397866702559747 \t 0.9995057802542876\n",
      "CCP\t R2_score Test \t R2_Score Train\n",
      "683.2799300817868\t 0.6397782501000153 \t 0.9995012394423032\n",
      "CCP\t R2_score Test \t R2_Score Train\n",
      "703.4280874567517\t 0.6397638567784931 \t 0.9994965647335212\n",
      "CCP\t R2_score Test \t R2_Score Train\n",
      "713.9640628129156\t 0.6398045007695912 \t 0.9994918200067553\n",
      "CCP\t R2_score Test \t R2_Score Train\n",
      "714.6638491421285\t 0.6398205252386482 \t 0.9994870706294823\n",
      "CCP\t R2_score Test \t R2_Score Train\n",
      "722.4459824756025\t 0.6398146528801086 \t 0.9994822695351857\n",
      "CCP\t R2_score Test \t R2_Score Train\n",
      "732.5376108361265\t 0.6399686254912599 \t 0.9994774013758619\n",
      "CCP\t R2_score Test \t R2_Score Train\n",
      "734.580892334474\t 0.6399686254912599 \t 0.9994725196376861\n",
      "CCP\t R2_score Test \t R2_Score Train\n",
      "740.2378175250317\t 0.6399520545317645 \t 0.9994626809738966\n",
      "CCP\t R2_score Test \t R2_Score Train\n",
      "754.5948649274837\t 0.6399675247114182 \t 0.9994576662306629\n",
      "CCP\t R2_score Test \t R2_Score Train\n",
      "755.4419288126563\t 0.6399673604750562 \t 0.999452645858173\n",
      "CCP\t R2_score Test \t R2_Score Train\n",
      "770.1891969070953\t 0.6403036147069845 \t 0.9994475274810898\n",
      "CCP\t R2_score Test \t R2_Score Train\n",
      "775.102406324828\t 0.6403036147069845 \t 0.9994423764527325\n",
      "CCP\t R2_score Test \t R2_Score Train\n",
      "785.5559309925717\t 0.6402783949457567 \t 0.9994319354559204\n",
      "CCP\t R2_score Test \t R2_Score Train\n",
      "800.795229033215\t 0.6405304338828541 \t 0.9994266136830817\n",
      "CCP\t R2_score Test \t R2_Score Train\n",
      "801.0816255427548\t 0.6405304338828541 \t 0.9994212900069637\n",
      "CCP\t R2_score Test \t R2_Score Train\n",
      "822.1511034561713\t 0.6405188115864624 \t 0.9994158263113109\n",
      "CCP\t R2_score Test \t R2_Score Train\n",
      "825.0123442860538\t 0.6407659997652697 \t 0.9994103436009674\n",
      "CCP\t R2_score Test \t R2_Score Train\n",
      "830.9612539484873\t 0.6407659997652697 \t 0.9994048213564898\n",
      "CCP\t R2_score Test \t R2_Score Train\n",
      "832.0533049815983\t 0.6407659997652697 \t 0.9993992918546669\n",
      "CCP\t R2_score Test \t R2_Score Train\n",
      "841.5186294390469\t 0.6407553326047728 \t 0.9993936994499885\n",
      "CCP\t R2_score Test \t R2_Score Train\n",
      "849.1746716322239\t 0.6407549124302496 \t 0.9993880561662389\n",
      "CCP\t R2_score Test \t R2_Score Train\n",
      "859.7312952761397\t 0.6407450902850611 \t 0.9993823427272849\n",
      "CCP\t R2_score Test \t R2_Score Train\n",
      "863.2332209255379\t 0.6407453989459259 \t 0.9993766060158986\n",
      "CCP\t R2_score Test \t R2_Score Train\n",
      "867.2237977225664\t 0.6406822866955778 \t 0.9993708427846949\n",
      "CCP\t R2_score Test \t R2_Score Train\n",
      "867.7908403540061\t 0.6406822866955778 \t 0.999365075785147\n",
      "CCP\t R2_score Test \t R2_Score Train\n",
      "872.7984548052431\t 0.6404434621980801 \t 0.9993592755069461\n",
      "CCP\t R2_score Test \t R2_Score Train\n",
      "875.2375223349004\t 0.6404434621980801 \t 0.9993534590196534\n",
      "CCP\t R2_score Test \t R2_Score Train\n",
      "878.3212695951952\t 0.6404335956718481 \t 0.9993417850583045\n",
      "CCP\t R2_score Test \t R2_Score Train\n",
      "895.721389276021\t 0.6404363064682852 \t 0.9993358324432194\n",
      "CCP\t R2_score Test \t R2_Score Train\n",
      "897.823583077279\t 0.64046157128269 \t 0.9993298658577741\n",
      "CCP\t R2_score Test \t R2_Score Train\n",
      "909.1861952398258\t 0.6406494420084536 \t 0.999323823760839\n",
      "CCP\t R2_score Test \t R2_Score Train\n",
      "916.0144062671413\t 0.640318647566331 \t 0.9993177362862757\n",
      "CCP\t R2_score Test \t R2_Score Train\n",
      "916.3663947326116\t 0.6402727188988355 \t 0.9993116464725346\n",
      "CCP\t R2_score Test \t R2_Score Train\n",
      "916.6567058345881\t 0.6402761068426714 \t 0.9993055547294989\n",
      "CCP\t R2_score Test \t R2_Score Train\n",
      "916.8488503101162\t 0.640128703691689 \t 0.9992994617095461\n",
      "CCP\t R2_score Test \t R2_Score Train\n",
      "924.0201329366635\t 0.640128703691689 \t 0.9992933210320452\n",
      "CCP\t R2_score Test \t R2_Score Train\n",
      "933.9636708098249\t 0.6401319836078573 \t 0.9992871142736688\n",
      "CCP\t R2_score Test \t R2_Score Train\n",
      "943.5384044774389\t 0.6401470230089998 \t 0.9992745734970231\n",
      "CCP\t R2_score Test \t R2_Score Train\n",
      "1013.2869813941411\t 0.6401218462507532 \t 0.9992678395868552\n",
      "CCP\t R2_score Test \t R2_Score Train\n",
      "1040.5197090924805\t 0.6401218462507532 \t 0.9992609246985976\n",
      "CCP\t R2_score Test \t R2_Score Train\n",
      "1045.6276671666606\t 0.6401218462507532 \t 0.9992539758648425\n",
      "CCP\t R2_score Test \t R2_Score Train\n",
      "1081.6355045851717\t 0.6401218462507532 \t 0.9992467877370406\n",
      "CCP\t R2_score Test \t R2_Score Train\n",
      "1100.2050345744733\t 0.6401281714612981 \t 0.9992321646697255\n",
      "CCP\t R2_score Test \t R2_Score Train\n",
      "1156.114641783007\t 0.6401031650076915 \t 0.9992244815826192\n",
      "CCP\t R2_score Test \t R2_Score Train\n",
      "1178.7753811680068\t 0.6399571707779427 \t 0.9992166479010751\n",
      "CCP\t R2_score Test \t R2_Score Train\n",
      "1187.3298845753475\t 0.6399541293773209 \t 0.999208757369637\n",
      "CCP\t R2_score Test \t R2_Score Train\n",
      "1189.213727557885\t 0.639927777333033 \t 0.9992008543189129\n",
      "CCP\t R2_score Test \t R2_Score Train\n",
      "1204.958259661512\t 0.639927777333033 \t 0.9991928466361678\n",
      "CCP\t R2_score Test \t R2_Score Train\n",
      "1245.4215154179249\t 0.640156580386963 \t 0.9991845700504028\n",
      "CCP\t R2_score Test \t R2_Score Train\n",
      "1249.3988161122654\t 0.640156580386963 \t 0.9991762670330482\n",
      "CCP\t R2_score Test \t R2_Score Train\n",
      "1253.5843492578176\t 0.6401139172303524 \t 0.9991679362002723\n",
      "CCP\t R2_score Test \t R2_Score Train\n",
      "1264.8897124121518\t 0.6400927656334208 \t 0.9991595302364613\n",
      "CCP\t R2_score Test \t R2_Score Train\n",
      "1275.4589438397115\t 0.64009626547508 \t 0.9991510540336594\n",
      "CCP\t R2_score Test \t R2_Score Train\n",
      "1277.5758996328352\t 0.6412379804482695 \t 0.9991425637623949\n",
      "CCP\t R2_score Test \t R2_Score Train\n",
      "1281.2334739477897\t 0.6412379804482695 \t 0.9991340491843175\n",
      "CCP\t R2_score Test \t R2_Score Train\n",
      "1287.8583774718336\t 0.641223522733315 \t 0.9991254905797146\n",
      "CCP\t R2_score Test \t R2_Score Train\n",
      "1288.9908378849238\t 0.6412011800371555 \t 0.9991169244492214\n",
      "CCP\t R2_score Test \t R2_Score Train\n",
      "1300.9951419414856\t 0.641197066795921 \t 0.9991082785428043\n",
      "CCP\t R2_score Test \t R2_Score Train\n",
      "1302.1896931526521\t 0.6411451011116291 \t 0.9990996246978655\n",
      "CCP\t R2_score Test \t R2_Score Train\n",
      "1319.6957997017107\t 0.6411451011116291 \t 0.9990820843304722\n",
      "CCP\t R2_score Test \t R2_Score Train\n",
      "1378.733725657016\t 0.641144069520259 \t 0.9990729218037402\n",
      "CCP\t R2_score Test \t R2_Score Train\n",
      "1385.7871978791766\t 0.6411365907107338 \t 0.9990637124023822\n",
      "CCP\t R2_score Test \t R2_Score Train\n",
      "1411.93398772862\t 0.6411365907107338 \t 0.9990543292396542\n",
      "CCP\t R2_score Test \t R2_Score Train\n",
      "1478.1016579234706\t 0.6411420484781262 \t 0.999044506352391\n",
      "CCP\t R2_score Test \t R2_Score Train\n",
      "1512.9536407399896\t 0.6409777432900987 \t 0.9990344518524396\n",
      "CCP\t R2_score Test \t R2_Score Train\n",
      "1518.2415655251605\t 0.640966343155254 \t 0.9990243622110021\n",
      "CCP\t R2_score Test \t R2_Score Train\n",
      "1542.8237641276357\t 0.6409727421262152 \t 0.999014109205858\n",
      "CCP\t R2_score Test \t R2_Score Train\n",
      "1562.6590770534942\t 0.6409791716867375 \t 0.9990037243829585\n",
      "CCP\t R2_score Test \t R2_Score Train\n",
      "1584.7072643919932\t 0.6409791716867375 \t 0.9989931930364032\n",
      "CCP\t R2_score Test \t R2_Score Train\n",
      "1603.5917042572933\t 0.6409658829698878 \t 0.9989825361912242\n",
      "CCP\t R2_score Test \t R2_Score Train\n",
      "1615.6098222827923\t 0.6407202179362296 \t 0.998971799478319\n",
      "CCP\t R2_score Test \t R2_Score Train\n",
      "1622.5081616332263\t 0.6407202179362296 \t 0.9989610169217403\n",
      "CCP\t R2_score Test \t R2_Score Train\n",
      "1643.1504361303535\t 0.6410780281538873 \t 0.9989500971846544\n",
      "CCP\t R2_score Test \t R2_Score Train\n",
      "1731.5844821795629\t 0.6410780281538873 \t 0.9989385897493814\n",
      "CCP\t R2_score Test \t R2_Score Train\n",
      "1746.9238698280465\t 0.6409874034022516 \t 0.9989269803745194\n",
      "CCP\t R2_score Test \t R2_Score Train\n",
      "1759.023267254991\t 0.6409968721679002 \t 0.9989152905917801\n",
      "CCP\t R2_score Test \t R2_Score Train\n",
      "1790.2777565992842\t 0.6409520862367053 \t 0.9989033931038916\n"
     ]
    },
    {
     "name": "stdout",
     "output_type": "stream",
     "text": [
      "CCP\t R2_score Test \t R2_Score Train\n",
      "1869.7700590115128\t 0.6409113806898308 \t 0.9988909673411577\n",
      "CCP\t R2_score Test \t R2_Score Train\n",
      "1889.2418478495317\t 0.640910683005883 \t 0.9988784121765077\n",
      "CCP\t R2_score Test \t R2_Score Train\n",
      "1896.6874118693033\t 0.64093213021692 \t 0.9988658075315425\n",
      "CCP\t R2_score Test \t R2_Score Train\n",
      "1964.323822118899\t 0.6415981914408462 \t 0.9988527534013683\n",
      "CCP\t R2_score Test \t R2_Score Train\n",
      "1985.3384914543344\t 0.6416052286091805 \t 0.9988395596158958\n",
      "CCP\t R2_score Test \t R2_Score Train\n",
      "1991.0264709790163\t 0.6408358578999767 \t 0.9988263280303293\n",
      "CCP\t R2_score Test \t R2_Score Train\n",
      "2050.1838565530443\t 0.6408358578999767 \t 0.9988127033078456\n",
      "CCP\t R2_score Test \t R2_Score Train\n",
      "2051.641018266083\t 0.6408358578999767 \t 0.9987990689016333\n",
      "CCP\t R2_score Test \t R2_Score Train\n",
      "2072.2829053439536\t 0.6407897308211196 \t 0.9987852973174882\n",
      "CCP\t R2_score Test \t R2_Score Train\n",
      "2078.0812588093404\t 0.6407897308211196 \t 0.9987714871997471\n",
      "CCP\t R2_score Test \t R2_Score Train\n",
      "2107.4688677421714\t 0.6407897308211196 \t 0.9987574817834161\n",
      "CCP\t R2_score Test \t R2_Score Train\n",
      "2149.806300773697\t 0.640821203162142 \t 0.9987431950090137\n",
      "CCP\t R2_score Test \t R2_Score Train\n",
      "2162.346382080974\t 0.6408251296920302 \t 0.9987288248981208\n",
      "CCP\t R2_score Test \t R2_Score Train\n",
      "2200.8833986066156\t 0.6408130768185051 \t 0.9987141986852426\n",
      "CCP\t R2_score Test \t R2_Score Train\n",
      "2290.045175134501\t 0.6406609409934758 \t 0.9986989799379645\n",
      "CCP\t R2_score Test \t R2_Score Train\n",
      "2448.083974820689\t 0.6406769067912997 \t 0.9986827109264477\n",
      "CCP\t R2_score Test \t R2_Score Train\n",
      "2560.4278075805596\t 0.6404345197737805 \t 0.9986656953216244\n",
      "CCP\t R2_score Test \t R2_Score Train\n",
      "2561.381639683116\t 0.6404202714658173 \t 0.9986486733780049\n",
      "CCP\t R2_score Test \t R2_Score Train\n",
      "2635.6263165680075\t 0.640436342619463 \t 0.9986311580332131\n",
      "CCP\t R2_score Test \t R2_Score Train\n",
      "2654.156526626642\t 0.6403990159917101 \t 0.9985958810545282\n",
      "CCP\t R2_score Test \t R2_Score Train\n",
      "2725.987493921729\t 0.6403669139855024 \t 0.9985777652045862\n",
      "CCP\t R2_score Test \t R2_Score Train\n",
      "2783.855066253292\t 0.6403379951846901 \t 0.9985592647893227\n",
      "CCP\t R2_score Test \t R2_Score Train\n",
      "2797.885255466326\t 0.6404490449228749 \t 0.9985406711348924\n",
      "CCP\t R2_score Test \t R2_Score Train\n",
      "2803.17017696142\t 0.6404530305942161 \t 0.9985220423589347\n",
      "CCP\t R2_score Test \t R2_Score Train\n",
      "2869.0853373398213\t 0.6404530305942161 \t 0.9985029755365233\n",
      "CCP\t R2_score Test \t R2_Score Train\n",
      "2880.106705117915\t 0.6404450009959186 \t 0.9984838354703992\n",
      "CCP\t R2_score Test \t R2_Score Train\n",
      "2924.7728985230688\t 0.6404450009959186 \t 0.9984643985701704\n",
      "CCP\t R2_score Test \t R2_Score Train\n",
      "3041.546687089895\t 0.6404220258670658 \t 0.9984441856368764\n",
      "CCP\t R2_score Test \t R2_Score Train\n",
      "3041.8549988740465\t 0.6404845049006597 \t 0.9984239706546625\n",
      "CCP\t R2_score Test \t R2_Score Train\n",
      "3059.385993321992\t 0.6404821653696976 \t 0.9984036391682952\n",
      "CCP\t R2_score Test \t R2_Score Train\n",
      "3255.016380585797\t 0.640619996233865 \t 0.9983820075986563\n",
      "CCP\t R2_score Test \t R2_Score Train\n",
      "3318.4118821442216\t 0.640039511505625 \t 0.9983599547272337\n",
      "CCP\t R2_score Test \t R2_Score Train\n",
      "3469.1118067469106\t 0.6393919049980485 \t 0.9983369003628746\n",
      "CCP\t R2_score Test \t R2_Score Train\n",
      "3470.9055375018843\t 0.6392847098936678 \t 0.9983138340780803\n",
      "CCP\t R2_score Test \t R2_Score Train\n",
      "3512.8282445715527\t 0.6392855995669731 \t 0.9982904891913217\n",
      "CCP\t R2_score Test \t R2_Score Train\n",
      "3654.303105464944\t 0.6395271429792906 \t 0.9982662041178029\n",
      "CCP\t R2_score Test \t R2_Score Train\n",
      "3702.99579760953\t 0.6395563885964402 \t 0.9982415954516387\n",
      "CCP\t R2_score Test \t R2_Score Train\n",
      "3724.9878797930487\t 0.6394943010808164 \t 0.9982168406346719\n",
      "CCP\t R2_score Test \t R2_Score Train\n",
      "3788.242809388835\t 0.6394681656290367 \t 0.9981916654501077\n",
      "CCP\t R2_score Test \t R2_Score Train\n",
      "3833.6211188344632\t 0.63862542717122 \t 0.9981661886989934\n",
      "CCP\t R2_score Test \t R2_Score Train\n",
      "3850.865900343609\t 0.6386016558999181 \t 0.9981405973457854\n",
      "CCP\t R2_score Test \t R2_Score Train\n",
      "3966.7518963076973\t 0.6385897079908491 \t 0.9981142358594355\n",
      "CCP\t R2_score Test \t R2_Score Train\n",
      "4726.597876850534\t 0.6385897079908491 \t 0.9980828247329853\n",
      "CCP\t R2_score Test \t R2_Score Train\n",
      "5010.4433454511645\t 0.6384843365759219 \t 0.9980495272802303\n",
      "CCP\t R2_score Test \t R2_Score Train\n",
      "5113.848919304157\t 0.6384615876142725 \t 0.9980155426343524\n",
      "CCP\t R2_score Test \t R2_Score Train\n",
      "5213.503665194555\t 0.6397374808848861 \t 0.9979808957218916\n",
      "CCP\t R2_score Test \t R2_Score Train\n",
      "5237.117801604278\t 0.6397398650741624 \t 0.9979460918790881\n",
      "CCP\t R2_score Test \t R2_Score Train\n",
      "5437.846489733499\t 0.6397398650741624 \t 0.9979099540716934\n",
      "CCP\t R2_score Test \t R2_Score Train\n",
      "5597.002239108442\t 0.6398361797213112 \t 0.9978727585772477\n",
      "CCP\t R2_score Test \t R2_Score Train\n",
      "5698.150733741901\t 0.6397902186851195 \t 0.9978348908893474\n",
      "CCP\t R2_score Test \t R2_Score Train\n",
      "5721.3356104888335\t 0.6398110465630674 \t 0.9977968691237968\n",
      "CCP\t R2_score Test \t R2_Score Train\n",
      "5947.851441830486\t 0.6404468483294145 \t 0.9977178149209158\n",
      "CCP\t R2_score Test \t R2_Score Train\n",
      "6038.236132968934\t 0.6404468483294145 \t 0.9976776871580616\n",
      "CCP\t R2_score Test \t R2_Score Train\n",
      "6046.653029931469\t 0.6406590215286729 \t 0.9976375034597922\n",
      "CCP\t R2_score Test \t R2_Score Train\n",
      "6140.290417288736\t 0.6406590215286729 \t 0.9975966974839584\n",
      "CCP\t R2_score Test \t R2_Score Train\n",
      "6448.001627129667\t 0.6406590215286729 \t 0.9975538465794096\n",
      "CCP\t R2_score Test \t R2_Score Train\n",
      "6893.677009923418\t 0.6408749120030932 \t 0.9975080338900487\n",
      "CCP\t R2_score Test \t R2_Score Train\n",
      "6941.01443023101\t 0.6416199370254259 \t 0.9974619066146506\n",
      "CCP\t R2_score Test \t R2_Score Train\n",
      "8290.007935199741\t 0.6415868155065239 \t 0.9974068144544307\n",
      "CCP\t R2_score Test \t R2_Score Train\n",
      "8581.447467038068\t 0.641817449563588 \t 0.9973497855007231\n",
      "CCP\t R2_score Test \t R2_Score Train\n",
      "9236.461729012957\t 0.641817449563588 \t 0.9972884035776396\n",
      "CCP\t R2_score Test \t R2_Score Train\n",
      "9278.594362758806\t 0.6419093659391315 \t 0.997226741657501\n",
      "CCP\t R2_score Test \t R2_Score Train\n",
      "9695.165864050923\t 0.6423318530731743 \t 0.9971623113655983\n",
      "CCP\t R2_score Test \t R2_Score Train\n",
      "9980.82689588234\t 0.641470615769598 \t 0.9970959826818658\n",
      "CCP\t R2_score Test \t R2_Score Train\n",
      "10217.601596698329\t 0.6413775629458278 \t 0.9970280804857969\n",
      "CCP\t R2_score Test \t R2_Score Train\n",
      "10398.759568423717\t 0.641716156268703 \t 0.9969589743844868\n",
      "CCP\t R2_score Test \t R2_Score Train\n",
      "10405.731086060568\t 0.6417830876328137 \t 0.9968898219531889\n",
      "CCP\t R2_score Test \t R2_Score Train\n",
      "10891.105129880481\t 0.6417830876328137 \t 0.9968174439152573\n",
      "CCP\t R2_score Test \t R2_Score Train\n",
      "11134.734590810294\t 0.641821759419648 \t 0.9967434468109266\n",
      "CCP\t R2_score Test \t R2_Score Train\n",
      "12941.743429329197\t 0.6419434852343717 \t 0.996657441030461\n",
      "CCP\t R2_score Test \t R2_Score Train\n",
      "13230.577516567178\t 0.6428893245787868 \t 0.9963936652529073\n",
      "CCP\t R2_score Test \t R2_Score Train\n",
      "15349.067085652383\t 0.6426127767919616 \t 0.996291661338108\n",
      "CCP\t R2_score Test \t R2_Score Train\n",
      "15785.92049291842\t 0.6420873535917173 \t 0.9961867542659057\n",
      "CCP\t R2_score Test \t R2_Score Train\n",
      "16165.123628695488\t 0.6423468804437475 \t 0.9960793271575257\n",
      "CCP\t R2_score Test \t R2_Score Train\n",
      "16212.546409596118\t 0.6423243572491738 \t 0.9959715848958353\n",
      "CCP\t R2_score Test \t R2_Score Train\n",
      "18528.825848609755\t 0.6441218142623639 \t 0.9953559081375515\n",
      "CCP\t R2_score Test \t R2_Score Train\n",
      "18697.466294606616\t 0.6460767235127651 \t 0.9949831399266426\n",
      "CCP\t R2_score Test \t R2_Score Train\n",
      "18750.294014529583\t 0.6459314155062207 \t 0.994858532783912\n",
      "CCP\t R2_score Test \t R2_Score Train\n",
      "18773.887433070096\t 0.6460809269177099 \t 0.9947337688485216\n",
      "CCP\t R2_score Test \t R2_Score Train\n",
      "18832.644582120873\t 0.6455347136403244 \t 0.9946086144360297\n",
      "CCP\t R2_score Test \t R2_Score Train\n",
      "19368.105438169667\t 0.6475889512157753 \t 0.9943511886829312\n",
      "CCP\t R2_score Test \t R2_Score Train\n",
      "19730.020812048395\t 0.6475226559986995 \t 0.9942200706579286\n",
      "CCP\t R2_score Test \t R2_Score Train\n",
      "19759.751092090024\t 0.6470133686510917 \t 0.9940887550570776\n",
      "CCP\t R2_score Test \t R2_Score Train\n",
      "20274.35234514191\t 0.6470440401044792 \t 0.993954019616957\n",
      "CCP\t R2_score Test \t R2_Score Train\n",
      "20899.590211311872\t 0.6469667709517386 \t 0.9938151290897763\n",
      "CCP\t R2_score Test \t R2_Score Train\n",
      "25554.059246896148\t 0.6469283068561736 \t 0.9936453067762993\n",
      "CCP\t R2_score Test \t R2_Score Train\n",
      "28050.056256781012\t 0.6469273927708519 \t 0.9930860775672725\n",
      "CCP\t R2_score Test \t R2_Score Train\n",
      "29673.480710083084\t 0.6468787450797043 \t 0.9928888791850344\n"
     ]
    },
    {
     "name": "stdout",
     "output_type": "stream",
     "text": [
      "CCP\t R2_score Test \t R2_Score Train\n",
      "30433.560811843585\t 0.6468787450797043 \t 0.9924843800286008\n",
      "CCP\t R2_score Test \t R2_Score Train\n",
      "32022.540073060845\t 0.6467624615610241 \t 0.9920587613990065\n",
      "CCP\t R2_score Test \t R2_Score Train\n",
      "32483.96092074899\t 0.6472553846739483 \t 0.9918428856611771\n",
      "CCP\t R2_score Test \t R2_Score Train\n",
      "33224.67412454141\t 0.6475171717093813 \t 0.9916220874322211\n",
      "CCP\t R2_score Test \t R2_Score Train\n",
      "34079.02283267141\t 0.6471589372203578 \t 0.9913956115348865\n",
      "CCP\t R2_score Test \t R2_Score Train\n",
      "37635.3846357986\t 0.6471935738717456 \t 0.9911455014437384\n",
      "CCP\t R2_score Test \t R2_Score Train\n",
      "40104.04253977484\t 0.6471935738717456 \t 0.9908789856147624\n",
      "CCP\t R2_score Test \t R2_Score Train\n",
      "40392.12156958288\t 0.6493044140711148 \t 0.9903421250350073\n",
      "CCP\t R2_score Test \t R2_Score Train\n",
      "40462.964281612236\t 0.6468093714404448 \t 0.9900732239520893\n",
      "CCP\t R2_score Test \t R2_Score Train\n",
      "43253.22126561067\t 0.6466841962708008 \t 0.9894983358664281\n",
      "CCP\t R2_score Test \t R2_Score Train\n",
      "44183.69058197799\t 0.6464430898370327 \t 0.9892047082873382\n",
      "CCP\t R2_score Test \t R2_Score Train\n",
      "47385.82895166722\t 0.6434873455244754 \t 0.9888898005452511\n",
      "CCP\t R2_score Test \t R2_Score Train\n",
      "47910.15663627951\t 0.643078555188621 \t 0.9876162316675381\n",
      "CCP\t R2_score Test \t R2_Score Train\n",
      "49163.59508578413\t 0.6453015909804558 \t 0.9866360654197044\n",
      "CCP\t R2_score Test \t R2_Score Train\n",
      "59131.46922516092\t 0.6451249270880555 \t 0.98545717135758\n",
      "CCP\t R2_score Test \t R2_Score Train\n",
      "63890.06107870775\t 0.654063736752551 \t 0.9846079944909425\n",
      "CCP\t R2_score Test \t R2_Score Train\n",
      "66057.41725072841\t 0.6558841181753511 \t 0.9841690026536202\n",
      "CCP\t R2_score Test \t R2_Score Train\n",
      "67366.18584555948\t 0.655799933385325 \t 0.9828259344443915\n",
      "CCP\t R2_score Test \t R2_Score Train\n",
      "72240.38493140718\t 0.6694542469699987 \t 0.9775450387187095\n",
      "CCP\t R2_score Test \t R2_Score Train\n",
      "76179.79811675329\t 0.6690483507164229 \t 0.977038777485165\n",
      "CCP\t R2_score Test \t R2_Score Train\n",
      "77550.17450236263\t 0.6797855169642988 \t 0.9754926728232054\n",
      "CCP\t R2_score Test \t R2_Score Train\n",
      "78282.63875591177\t 0.6837162595310022 \t 0.9739319651457864\n",
      "CCP\t R2_score Test \t R2_Score Train\n",
      "81022.6970536599\t 0.6853143276015807 \t 0.9728550746428051\n",
      "CCP\t R2_score Test \t R2_Score Train\n",
      "81327.66823146639\t 0.6853143276015807 \t 0.9717741307007628\n",
      "CCP\t R2_score Test \t R2_Score Train\n",
      "81408.24148446467\t 0.6853143276015807 \t 0.97123312327132\n",
      "CCP\t R2_score Test \t R2_Score Train\n",
      "85282.91753195734\t 0.6858620547171269 \t 0.9700996092401113\n",
      "CCP\t R2_score Test \t R2_Score Train\n",
      "88972.75032914426\t 0.6837029129491222 \t 0.9683257746233102\n",
      "CCP\t R2_score Test \t R2_Score Train\n",
      "90438.19848211738\t 0.6925928066940896 \t 0.9671237406181026\n",
      "CCP\t R2_score Test \t R2_Score Train\n",
      "92517.13218361158\t 0.6969676749686233 \t 0.9634347439060227\n",
      "CCP\t R2_score Test \t R2_Score Train\n",
      "93821.04958713545\t 0.6970806961221321 \t 0.9621877476820732\n",
      "CCP\t R2_score Test \t R2_Score Train\n",
      "93972.63817589541\t 0.6971491666478492 \t 0.9615632421714463\n",
      "CCP\t R2_score Test \t R2_Score Train\n",
      "98315.37504426762\t 0.6969534279938328 \t 0.9602565108784593\n",
      "CCP\t R2_score Test \t R2_Score Train\n",
      "100349.91684909536\t 0.6979373835749401 \t 0.9589227380424578\n",
      "CCP\t R2_score Test \t R2_Score Train\n",
      "106423.94636745196\t 0.6978071544127828 \t 0.9568009818932457\n",
      "CCP\t R2_score Test \t R2_Score Train\n",
      "110011.03991046066\t 0.7244468280676966 \t 0.9546077104691122\n",
      "CCP\t R2_score Test \t R2_Score Train\n",
      "115959.25360498708\t 0.7242250079800377 \t 0.9515252305349449\n",
      "CCP\t R2_score Test \t R2_Score Train\n",
      "116510.36674071883\t 0.7269557902309565 \t 0.9499766656018515\n",
      "CCP\t R2_score Test \t R2_Score Train\n",
      "118284.09849298412\t 0.7373560310097116 \t 0.9452602456249982\n",
      "CCP\t R2_score Test \t R2_Score Train\n",
      "118413.78315358161\t 0.7371615153824738 \t 0.9444733137951697\n",
      "CCP\t R2_score Test \t R2_Score Train\n",
      "121281.6599266472\t 0.736572737200618 \t 0.9436673231745762\n",
      "CCP\t R2_score Test \t R2_Score Train\n",
      "121323.32982889599\t 0.7363265875277243 \t 0.942054788089546\n",
      "CCP\t R2_score Test \t R2_Score Train\n",
      "122599.38487462727\t 0.7368418360673593 \t 0.9404252926759905\n",
      "CCP\t R2_score Test \t R2_Score Train\n",
      "123231.77076271559\t 0.7366698246099221 \t 0.9387873920823822\n",
      "CCP\t R2_score Test \t R2_Score Train\n",
      "125276.21779856127\t 0.7356167629574023 \t 0.9379548551877673\n",
      "CCP\t R2_score Test \t R2_Score Train\n",
      "128633.00063423222\t 0.735036386303501 \t 0.9362451656589027\n",
      "CCP\t R2_score Test \t R2_Score Train\n",
      "134747.94794616915\t 0.7355280607462662 \t 0.9335587186992931\n",
      "CCP\t R2_score Test \t R2_Score Train\n",
      "138908.6282033201\t 0.7539053956882174 \t 0.9280199232283679\n",
      "CCP\t R2_score Test \t R2_Score Train\n",
      "139575.14149906507\t 0.7747490687777399 \t 0.9196718655347464\n",
      "CCP\t R2_score Test \t R2_Score Train\n",
      "141202.81061359472\t 0.7763697130329846 \t 0.9159183502538778\n",
      "CCP\t R2_score Test \t R2_Score Train\n",
      "141598.07889208518\t 0.7771744921277586 \t 0.9121543277776006\n",
      "CCP\t R2_score Test \t R2_Score Train\n",
      "154974.1219469712\t 0.7771426732751578 \t 0.9100945326066002\n",
      "CCP\t R2_score Test \t R2_Score Train\n",
      "159263.3043763605\t 0.7861587994874408 \t 0.9079777289677045\n",
      "CCP\t R2_score Test \t R2_Score Train\n",
      "163071.58532835916\t 0.798345168855171 \t 0.9025591781192333\n",
      "CCP\t R2_score Test \t R2_Score Train\n",
      "163814.00256542308\t 0.804905784606321 \t 0.8949386702231026\n",
      "CCP\t R2_score Test \t R2_Score Train\n",
      "164687.55705629848\t 0.8019433492652894 \t 0.8938442209354195\n",
      "CCP\t R2_score Test \t R2_Score Train\n",
      "176509.51728189536\t 0.8234816940089172 \t 0.8903251806585795\n",
      "CCP\t R2_score Test \t R2_Score Train\n",
      "181523.47939371513\t 0.8233293166628577 \t 0.8891188463958625\n",
      "CCP\t R2_score Test \t R2_Score Train\n",
      "198074.8357025097\t 0.8338403724222524 \t 0.8864861901500903\n",
      "CCP\t R2_score Test \t R2_Score Train\n",
      "209343.8294099612\t 0.8315081026370872 \t 0.8823125377672273\n",
      "CCP\t R2_score Test \t R2_Score Train\n",
      "215157.91626042698\t 0.8317905402645939 \t 0.8794528265370686\n",
      "CCP\t R2_score Test \t R2_Score Train\n",
      "258227.59746926333\t 0.8321178971387152 \t 0.8708724269257677\n",
      "CCP\t R2_score Test \t R2_Score Train\n",
      "264033.8982589918\t 0.8330318189235354 \t 0.8691177605925059\n",
      "CCP\t R2_score Test \t R2_Score Train\n",
      "293176.80123205355\t 0.8308196275030051 \t 0.8671694218897571\n",
      "CCP\t R2_score Test \t R2_Score Train\n",
      "305205.03274312284\t 0.8425486636553646 \t 0.8651411482505474\n",
      "CCP\t R2_score Test \t R2_Score Train\n",
      "331919.9493483724\t 0.8367958478387723 \t 0.8629353376925097\n",
      "CCP\t R2_score Test \t R2_Score Train\n",
      "334199.54790213937\t 0.8368618958461507 \t 0.8607143778113664\n",
      "CCP\t R2_score Test \t R2_Score Train\n",
      "774275.1185203139\t 0.8270316402631441 \t 0.8555688472862766\n",
      "CCP\t R2_score Test \t R2_Score Train\n",
      "864952.7710009683\t 0.8201071125165569 \t 0.8498207084406804\n",
      "CCP\t R2_score Test \t R2_Score Train\n",
      "1088316.1769722078\t 0.8130135487149734 \t 0.8425881834949476\n",
      "CCP\t R2_score Test \t R2_Score Train\n",
      "1528476.4143329547\t 0.8055080671023335 \t 0.8324305252431149\n",
      "CCP\t R2_score Test \t R2_Score Train\n",
      "9165029.303269293\t 0.7361979207438578 \t 0.7715233142075482\n",
      "CCP\t R2_score Test \t R2_Score Train\n",
      "20432463.026946504\t 0.564989574657756 \t 0.6357371321475818\n",
      "CCP\t R2_score Test \t R2_Score Train\n",
      "95662719.50798264\t -0.0025118620096056254 \t 2.220446049250313e-16\n"
     ]
    },
    {
     "data": {
      "text/plain": [
       "'Cost complexity Pruning Done Successfully'"
      ]
     },
     "execution_count": 56,
     "metadata": {},
     "output_type": "execute_result"
    }
   ],
   "source": [
    "ccp_dict = post_pruning(decision_tree_model,x_train,y_train,x_test,y_test)\n",
    "ccp_dict"
   ]
  },
  {
   "cell_type": "code",
   "execution_count": 57,
   "id": "70f8748f",
   "metadata": {},
   "outputs": [
    {
     "data": {
      "text/plain": [
       "DecisionTreeRegressor(ccp_alpha=305205.03274312284, random_state=20)"
      ]
     },
     "execution_count": 57,
     "metadata": {},
     "output_type": "execute_result"
    }
   ],
   "source": [
    "prunned_model = DecisionTreeRegressor(ccp_alpha=305205.03274312284,random_state=20)\n",
    "prunned_model.fit(x_train,y_train)"
   ]
  },
  {
   "cell_type": "markdown",
   "id": "b463cdc6",
   "metadata": {},
   "source": [
    "###### Prunned Model Testing Accuracy :- "
   ]
  },
  {
   "cell_type": "code",
   "execution_count": 58,
   "id": "9581e2cf",
   "metadata": {},
   "outputs": [
    {
     "name": "stdout",
     "output_type": "stream",
     "text": [
      "Mean Squared Error = 21179634.694905784\n",
      "Root Mean Squared Error = 4602.133711106815\n",
      "R2-Squared Error = 84.25486636553646\n",
      "Adjusted R2-Squared  Error = 84.01557862033185\n"
     ]
    },
    {
     "data": {
      "text/plain": [
       "'All result Printed'"
      ]
     },
     "execution_count": 58,
     "metadata": {},
     "output_type": "execute_result"
    }
   ],
   "source": [
    "y_predict_Prunned_tree = prunned_model.predict(x_test)\n",
    "result_Prunned_tree =  test_vallidation(y_test,y_predict_Prunned_tree,x_test)\n",
    "printin_accuracy(result_Prunned_tree)"
   ]
  },
  {
   "cell_type": "markdown",
   "id": "97357938",
   "metadata": {},
   "source": [
    "###### Prunned Model Training Accuracy :-"
   ]
  },
  {
   "cell_type": "code",
   "execution_count": 59,
   "id": "c63e6591",
   "metadata": {},
   "outputs": [
    {
     "name": "stdout",
     "output_type": "stream",
     "text": [
      "Mean Squared Error = 20292922.74386396\n",
      "Root Mean Squared Error = 4504.766669192086\n",
      "R2-Squared Error = 86.51411482505475\n",
      "Adjusted R2-Squared  Error = 86.44648250221148\n"
     ]
    },
    {
     "data": {
      "text/plain": [
       "'All result Printed'"
      ]
     },
     "execution_count": 59,
     "metadata": {},
     "output_type": "execute_result"
    }
   ],
   "source": [
    "y_predict1_Prunned_tree = prunned_model.predict(x_train)\n",
    "result_Prunned_tree_train =  test_vallidation(y_train,y_predict1_Prunned_tree,x_train)\n",
    "printin_accuracy(result_Prunned_tree_train)"
   ]
  },
  {
   "cell_type": "raw",
   "id": "e3cb60b7",
   "metadata": {},
   "source": [
    "After applying the both model we have genralised model which has low bias and low varience which is genralised model."
   ]
  },
  {
   "cell_type": "markdown",
   "id": "a13f44ef",
   "metadata": {},
   "source": [
    "# Random Forest decsion Tree :-"
   ]
  },
  {
   "cell_type": "code",
   "execution_count": 60,
   "id": "c583e44a",
   "metadata": {},
   "outputs": [
    {
     "data": {
      "text/plain": [
       "RandomForestRegressor(random_state=5)"
      ]
     },
     "execution_count": 60,
     "metadata": {},
     "output_type": "execute_result"
    }
   ],
   "source": [
    "random_forest_model = model(RandomForestRegressor(random_state= 5),x_train,y_train)\n",
    "random_forest_model"
   ]
  },
  {
   "cell_type": "markdown",
   "id": "0f869ca6",
   "metadata": {},
   "source": [
    "###### Testing Accuracy :-"
   ]
  },
  {
   "cell_type": "code",
   "execution_count": 61,
   "id": "526a7e33",
   "metadata": {},
   "outputs": [
    {
     "name": "stdout",
     "output_type": "stream",
     "text": [
      "Mean Squared Error = 24051780.662084498\n",
      "Root Mean Squared Error = 4904.2614797831175\n",
      "R2-Squared Error = 82.1196868535975\n",
      "Adjusted R2-Squared  Error = 81.84794957173729\n"
     ]
    },
    {
     "data": {
      "text/plain": [
       "'All result Printed'"
      ]
     },
     "execution_count": 61,
     "metadata": {},
     "output_type": "execute_result"
    }
   ],
   "source": [
    "y_predict_random =random_forest_model.predict(x_test)\n",
    "result_random =  test_vallidation(y_test,y_predict_random,x_test)\n",
    "printin_accuracy(result_random)"
   ]
  },
  {
   "cell_type": "markdown",
   "id": "f64c2cfb",
   "metadata": {},
   "source": [
    "###### Traning Accuracy :-"
   ]
  },
  {
   "cell_type": "code",
   "execution_count": 62,
   "id": "058ca906",
   "metadata": {},
   "outputs": [
    {
     "name": "stdout",
     "output_type": "stream",
     "text": [
      "Mean Squared Error = 3717072.637231792\n",
      "Root Mean Squared Error = 1927.9711193977444\n",
      "R2-Squared Error = 97.52977846486918\n",
      "Adjusted R2-Squared  Error = 97.51739019237604\n"
     ]
    },
    {
     "data": {
      "text/plain": [
       "'All result Printed'"
      ]
     },
     "execution_count": 62,
     "metadata": {},
     "output_type": "execute_result"
    }
   ],
   "source": [
    "y_predict1_random = random_forest_model.predict(x_train)\n",
    "result_random_train =  test_vallidation(y_train,y_predict1_random,x_train)\n",
    "printin_accuracy(result_random_train)"
   ]
  },
  {
   "cell_type": "raw",
   "id": "b6f90341",
   "metadata": {},
   "source": [
    "We have condition for low bias and high varrience so we can call our model has overfitted model.\n",
    "so for making our model genralised we have methods :-\n",
    "                        \n",
    "                                 1) pre-pruning - Hyperpara tunning \n",
    "                                "
   ]
  },
  {
   "cell_type": "markdown",
   "id": "40f1211f",
   "metadata": {},
   "source": [
    "###### Hyperparameter Tunning :-"
   ]
  },
  {
   "cell_type": "code",
   "execution_count": 68,
   "id": "11a8b739",
   "metadata": {},
   "outputs": [
    {
     "data": {
      "text/plain": [
       "RandomForestRegressor(max_depth=5, min_samples_leaf=7, min_samples_split=6,\n",
       "                      n_estimators=70, random_state=3)"
      ]
     },
     "execution_count": 68,
     "metadata": {},
     "output_type": "execute_result"
    }
   ],
   "source": [
    "model_name_random = RandomForestRegressor(random_state= 3)\n",
    "hyp = {\n",
    "    'n_estimators':np.arange(50,150,10),\n",
    "    'criterion':['mse','mae'],\n",
    "    'max_depth':np.arange(5,8),\n",
    "    'min_samples_split':np.arange(2,8),\n",
    "    'min_samples_leaf':np.arange(2,8)\n",
    "}\n",
    "\n",
    "tunned_model_random_forest = hyp_model_random_cv(model_name_random,hyp,x_train,y_train)\n",
    "tunned_model_random_forest\n"
   ]
  },
  {
   "cell_type": "markdown",
   "id": "1aef358d",
   "metadata": {},
   "source": [
    "###### Tunned Test Accuracy :-"
   ]
  },
  {
   "cell_type": "code",
   "execution_count": 69,
   "id": "e03ad7ef",
   "metadata": {},
   "outputs": [
    {
     "name": "stdout",
     "output_type": "stream",
     "text": [
      "Mean Squared Error = 19496203.227336418\n",
      "Root Mean Squared Error = 4415.45051238675\n",
      "R2-Squared Error = 85.50634467491996\n",
      "Adjusted R2-Squared  Error = 85.28607635690963\n"
     ]
    },
    {
     "data": {
      "text/plain": [
       "'All result Printed'"
      ]
     },
     "execution_count": 69,
     "metadata": {},
     "output_type": "execute_result"
    }
   ],
   "source": [
    "y_predict_random_tunned =tunned_model_random_forest.predict(x_test)\n",
    "result_random_tunned =  test_vallidation(y_test,y_predict_random_tunned,x_test)\n",
    "printin_accuracy(result_random_tunned)"
   ]
  },
  {
   "cell_type": "markdown",
   "id": "12c50460",
   "metadata": {},
   "source": [
    "###### Tunned Training Accuracy :-"
   ]
  },
  {
   "cell_type": "code",
   "execution_count": 70,
   "id": "355b213b",
   "metadata": {},
   "outputs": [
    {
     "name": "stdout",
     "output_type": "stream",
     "text": [
      "Mean Squared Error = 17453295.891015403\n",
      "Root Mean Squared Error = 4177.714194510606\n",
      "R2-Squared Error = 88.40122010607129\n",
      "Adjusted R2-Squared  Error = 88.34305170138761\n"
     ]
    },
    {
     "data": {
      "text/plain": [
       "'All result Printed'"
      ]
     },
     "execution_count": 70,
     "metadata": {},
     "output_type": "execute_result"
    }
   ],
   "source": [
    "y_predict1_random_tunned = tunned_model_random_forest.predict(x_train)\n",
    "result_random_train_tunned =  test_vallidation(y_train,y_predict1_random_tunned,x_train)\n",
    "printin_accuracy(result_random_train_tunned)"
   ]
  },
  {
   "cell_type": "raw",
   "id": "6ed6f2ae",
   "metadata": {},
   "source": [
    "After applying the both model we have genralised model which has low bias and low varience which is genralised model."
   ]
  },
  {
   "cell_type": "markdown",
   "id": "79be4eb7",
   "metadata": {},
   "source": [
    "# Creating Pickle File of Final Model :-"
   ]
  },
  {
   "cell_type": "code",
   "execution_count": 73,
   "id": "8f38a2d1",
   "metadata": {},
   "outputs": [],
   "source": [
    "with open('final_modle.pkl','wb') as file:\n",
    "    pickle.dump(tunned_model_random_forest,file)"
   ]
  },
  {
   "cell_type": "code",
   "execution_count": null,
   "id": "fc3603dd",
   "metadata": {},
   "outputs": [],
   "source": [
    "tunned_model_random_forest"
   ]
  },
  {
   "cell_type": "code",
   "execution_count": null,
   "id": "ee7aabc8",
   "metadata": {},
   "outputs": [],
   "source": []
  },
  {
   "cell_type": "code",
   "execution_count": null,
   "id": "fefade12",
   "metadata": {},
   "outputs": [],
   "source": []
  }
 ],
 "metadata": {
  "kernelspec": {
   "display_name": "Python 3 (ipykernel)",
   "language": "python",
   "name": "python3"
  },
  "language_info": {
   "codemirror_mode": {
    "name": "ipython",
    "version": 3
   },
   "file_extension": ".py",
   "mimetype": "text/x-python",
   "name": "python",
   "nbconvert_exporter": "python",
   "pygments_lexer": "ipython3",
   "version": "3.9.7"
  }
 },
 "nbformat": 4,
 "nbformat_minor": 5
}
